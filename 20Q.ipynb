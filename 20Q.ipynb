{
 "cells": [
  {
   "cell_type": "code",
   "execution_count": 1,
   "id": "79d105a8-a8f3-40e3-8aed-67c60468008b",
   "metadata": {
    "scrolled": true
   },
   "outputs": [
    {
     "name": "stdout",
     "output_type": "stream",
     "text": [
      "Defaulting to user installation because normal site-packages is not writeable\n",
      "Requirement already satisfied: numpy in c:\\users\\dell\\appdata\\local\\packages\\pythonsoftwarefoundation.python.3.13_qbz5n2kfra8p0\\localcache\\local-packages\\python313\\site-packages (2.3.2)\n",
      "Defaulting to user installation because normal site-packages is not writeable\n",
      "Requirement already satisfied: pandas in c:\\users\\dell\\appdata\\local\\packages\\pythonsoftwarefoundation.python.3.13_qbz5n2kfra8p0\\localcache\\local-packages\\python313\\site-packages (2.3.2)\n",
      "Requirement already satisfied: numpy>=1.26.0 in c:\\users\\dell\\appdata\\local\\packages\\pythonsoftwarefoundation.python.3.13_qbz5n2kfra8p0\\localcache\\local-packages\\python313\\site-packages (from pandas) (2.3.2)\n",
      "Requirement already satisfied: python-dateutil>=2.8.2 in c:\\users\\dell\\appdata\\local\\packages\\pythonsoftwarefoundation.python.3.13_qbz5n2kfra8p0\\localcache\\local-packages\\python313\\site-packages (from pandas) (2.9.0.post0)\n",
      "Requirement already satisfied: pytz>=2020.1 in c:\\users\\dell\\appdata\\local\\packages\\pythonsoftwarefoundation.python.3.13_qbz5n2kfra8p0\\localcache\\local-packages\\python313\\site-packages (from pandas) (2025.2)\n",
      "Requirement already satisfied: tzdata>=2022.7 in c:\\users\\dell\\appdata\\local\\packages\\pythonsoftwarefoundation.python.3.13_qbz5n2kfra8p0\\localcache\\local-packages\\python313\\site-packages (from pandas) (2025.2)\n",
      "Requirement already satisfied: six>=1.5 in c:\\users\\dell\\appdata\\local\\packages\\pythonsoftwarefoundation.python.3.13_qbz5n2kfra8p0\\localcache\\local-packages\\python313\\site-packages (from python-dateutil>=2.8.2->pandas) (1.17.0)\n"
     ]
    }
   ],
   "source": [
    "!pip install numpy\n",
    "!pip install pandas\n",
    "\n",
    "import numpy as np\n",
    "import pandas as pd\n"
   ]
  },
  {
   "cell_type": "markdown",
   "id": "558c67b1-8481-462f-85d2-a0b23f8eb6af",
   "metadata": {},
   "source": [
    "<h3>Converting Database into DataFrame</h3>\n",
    "<hr>"
   ]
  },
  {
   "cell_type": "code",
   "execution_count": 2,
   "id": "49b04d5c-9c93-4ea9-8efa-9d4af0d56106",
   "metadata": {},
   "outputs": [],
   "source": [
    "drive = pd.read_csv('accident_data.csv')"
   ]
  },
  {
   "cell_type": "code",
   "execution_count": 3,
   "id": "878d9e0b-6a1b-40aa-b4a9-8d857be70159",
   "metadata": {},
   "outputs": [
    {
     "data": {
      "text/html": [
       "<div>\n",
       "<style scoped>\n",
       "    .dataframe tbody tr th:only-of-type {\n",
       "        vertical-align: middle;\n",
       "    }\n",
       "\n",
       "    .dataframe tbody tr th {\n",
       "        vertical-align: top;\n",
       "    }\n",
       "\n",
       "    .dataframe thead th {\n",
       "        text-align: right;\n",
       "    }\n",
       "</style>\n",
       "<table border=\"1\" class=\"dataframe\">\n",
       "  <thead>\n",
       "    <tr style=\"text-align: right;\">\n",
       "      <th></th>\n",
       "      <th>Index</th>\n",
       "      <th>Accident_Severity</th>\n",
       "      <th>Accident Date</th>\n",
       "      <th>Latitude</th>\n",
       "      <th>Light_Conditions</th>\n",
       "      <th>District Area</th>\n",
       "      <th>Longitude</th>\n",
       "      <th>Number_of_Casualties</th>\n",
       "      <th>Number_of_Vehicles</th>\n",
       "      <th>Road_Surface_Conditions</th>\n",
       "      <th>Road_Type</th>\n",
       "      <th>Urban_or_Rural_Area</th>\n",
       "      <th>Weather_Conditions</th>\n",
       "      <th>Vehicle_Type</th>\n",
       "    </tr>\n",
       "  </thead>\n",
       "  <tbody>\n",
       "    <tr>\n",
       "      <th>0</th>\n",
       "      <td>200701BS64157</td>\n",
       "      <td>Serious</td>\n",
       "      <td>5/6/2019</td>\n",
       "      <td>51.506187</td>\n",
       "      <td>Darkness - lights lit</td>\n",
       "      <td>Kensington and Chelsea</td>\n",
       "      <td>-0.209082</td>\n",
       "      <td>1</td>\n",
       "      <td>2</td>\n",
       "      <td>Dry</td>\n",
       "      <td>Single carriageway</td>\n",
       "      <td>Urban</td>\n",
       "      <td>Fine no high winds</td>\n",
       "      <td>Car</td>\n",
       "    </tr>\n",
       "    <tr>\n",
       "      <th>1</th>\n",
       "      <td>200701BS65737</td>\n",
       "      <td>Serious</td>\n",
       "      <td>2/7/2019</td>\n",
       "      <td>51.495029</td>\n",
       "      <td>Daylight</td>\n",
       "      <td>Kensington and Chelsea</td>\n",
       "      <td>-0.173647</td>\n",
       "      <td>1</td>\n",
       "      <td>2</td>\n",
       "      <td>Wet or damp</td>\n",
       "      <td>Single carriageway</td>\n",
       "      <td>Urban</td>\n",
       "      <td>Raining no high winds</td>\n",
       "      <td>Car</td>\n",
       "    </tr>\n",
       "    <tr>\n",
       "      <th>2</th>\n",
       "      <td>200701BS66127</td>\n",
       "      <td>Serious</td>\n",
       "      <td>26-08-2019</td>\n",
       "      <td>51.517715</td>\n",
       "      <td>Darkness - lighting unknown</td>\n",
       "      <td>Kensington and Chelsea</td>\n",
       "      <td>-0.210215</td>\n",
       "      <td>1</td>\n",
       "      <td>3</td>\n",
       "      <td>Dry</td>\n",
       "      <td>NaN</td>\n",
       "      <td>Urban</td>\n",
       "      <td>NaN</td>\n",
       "      <td>Taxi/Private hire car</td>\n",
       "    </tr>\n",
       "    <tr>\n",
       "      <th>3</th>\n",
       "      <td>200701BS66128</td>\n",
       "      <td>Serious</td>\n",
       "      <td>16-08-2019</td>\n",
       "      <td>51.495478</td>\n",
       "      <td>Daylight</td>\n",
       "      <td>Kensington and Chelsea</td>\n",
       "      <td>-0.202731</td>\n",
       "      <td>1</td>\n",
       "      <td>4</td>\n",
       "      <td>Dry</td>\n",
       "      <td>Single carriageway</td>\n",
       "      <td>Urban</td>\n",
       "      <td>Fine no high winds</td>\n",
       "      <td>Bus or coach (17 or more pass seats)</td>\n",
       "    </tr>\n",
       "    <tr>\n",
       "      <th>4</th>\n",
       "      <td>200701BS66837</td>\n",
       "      <td>Slight</td>\n",
       "      <td>3/9/2019</td>\n",
       "      <td>51.488576</td>\n",
       "      <td>Darkness - lights lit</td>\n",
       "      <td>Kensington and Chelsea</td>\n",
       "      <td>-0.192487</td>\n",
       "      <td>1</td>\n",
       "      <td>2</td>\n",
       "      <td>Dry</td>\n",
       "      <td>NaN</td>\n",
       "      <td>Urban</td>\n",
       "      <td>NaN</td>\n",
       "      <td>Other vehicle</td>\n",
       "    </tr>\n",
       "    <tr>\n",
       "      <th>...</th>\n",
       "      <td>...</td>\n",
       "      <td>...</td>\n",
       "      <td>...</td>\n",
       "      <td>...</td>\n",
       "      <td>...</td>\n",
       "      <td>...</td>\n",
       "      <td>...</td>\n",
       "      <td>...</td>\n",
       "      <td>...</td>\n",
       "      <td>...</td>\n",
       "      <td>...</td>\n",
       "      <td>...</td>\n",
       "      <td>...</td>\n",
       "      <td>...</td>\n",
       "    </tr>\n",
       "    <tr>\n",
       "      <th>660674</th>\n",
       "      <td>201091NM01760</td>\n",
       "      <td>Slight</td>\n",
       "      <td>18-02-2022</td>\n",
       "      <td>57.374005</td>\n",
       "      <td>Daylight</td>\n",
       "      <td>Highland</td>\n",
       "      <td>-3.467828</td>\n",
       "      <td>2</td>\n",
       "      <td>1</td>\n",
       "      <td>Dry</td>\n",
       "      <td>Single carriageway</td>\n",
       "      <td>Rural</td>\n",
       "      <td>Fine no high winds</td>\n",
       "      <td>Car</td>\n",
       "    </tr>\n",
       "    <tr>\n",
       "      <th>660675</th>\n",
       "      <td>201091NM01881</td>\n",
       "      <td>Slight</td>\n",
       "      <td>21-02-2022</td>\n",
       "      <td>57.232273</td>\n",
       "      <td>Darkness - no lighting</td>\n",
       "      <td>Highland</td>\n",
       "      <td>-3.809281</td>\n",
       "      <td>1</td>\n",
       "      <td>1</td>\n",
       "      <td>Frost or ice</td>\n",
       "      <td>Single carriageway</td>\n",
       "      <td>Rural</td>\n",
       "      <td>Fine no high winds</td>\n",
       "      <td>Car</td>\n",
       "    </tr>\n",
       "    <tr>\n",
       "      <th>660676</th>\n",
       "      <td>201091NM01935</td>\n",
       "      <td>Slight</td>\n",
       "      <td>23-02-2022</td>\n",
       "      <td>57.585044</td>\n",
       "      <td>Daylight</td>\n",
       "      <td>Highland</td>\n",
       "      <td>-3.862727</td>\n",
       "      <td>1</td>\n",
       "      <td>3</td>\n",
       "      <td>Frost or ice</td>\n",
       "      <td>Single carriageway</td>\n",
       "      <td>Rural</td>\n",
       "      <td>Fine no high winds</td>\n",
       "      <td>Car</td>\n",
       "    </tr>\n",
       "    <tr>\n",
       "      <th>660677</th>\n",
       "      <td>201091NM01964</td>\n",
       "      <td>Serious</td>\n",
       "      <td>23-02-2022</td>\n",
       "      <td>57.214898</td>\n",
       "      <td>Darkness - no lighting</td>\n",
       "      <td>Highland</td>\n",
       "      <td>-3.823997</td>\n",
       "      <td>1</td>\n",
       "      <td>2</td>\n",
       "      <td>Wet or damp</td>\n",
       "      <td>Single carriageway</td>\n",
       "      <td>Rural</td>\n",
       "      <td>Fine no high winds</td>\n",
       "      <td>Motorcycle over 500cc</td>\n",
       "    </tr>\n",
       "    <tr>\n",
       "      <th>660678</th>\n",
       "      <td>201091NM02142</td>\n",
       "      <td>Serious</td>\n",
       "      <td>28-02-2022</td>\n",
       "      <td>57.575210</td>\n",
       "      <td>Daylight</td>\n",
       "      <td>Highland</td>\n",
       "      <td>-3.895673</td>\n",
       "      <td>1</td>\n",
       "      <td>1</td>\n",
       "      <td>Wet or damp</td>\n",
       "      <td>Dual carriageway</td>\n",
       "      <td>Rural</td>\n",
       "      <td>Snowing no high winds</td>\n",
       "      <td>Car</td>\n",
       "    </tr>\n",
       "  </tbody>\n",
       "</table>\n",
       "<p>660679 rows × 14 columns</p>\n",
       "</div>"
      ],
      "text/plain": [
       "                Index Accident_Severity Accident Date   Latitude  \\\n",
       "0       200701BS64157           Serious      5/6/2019  51.506187   \n",
       "1       200701BS65737           Serious      2/7/2019  51.495029   \n",
       "2       200701BS66127           Serious    26-08-2019  51.517715   \n",
       "3       200701BS66128           Serious    16-08-2019  51.495478   \n",
       "4       200701BS66837            Slight      3/9/2019  51.488576   \n",
       "...               ...               ...           ...        ...   \n",
       "660674  201091NM01760            Slight    18-02-2022  57.374005   \n",
       "660675  201091NM01881            Slight    21-02-2022  57.232273   \n",
       "660676  201091NM01935            Slight    23-02-2022  57.585044   \n",
       "660677  201091NM01964           Serious    23-02-2022  57.214898   \n",
       "660678  201091NM02142           Serious    28-02-2022  57.575210   \n",
       "\n",
       "                   Light_Conditions           District Area  Longitude  \\\n",
       "0             Darkness - lights lit  Kensington and Chelsea  -0.209082   \n",
       "1                          Daylight  Kensington and Chelsea  -0.173647   \n",
       "2       Darkness - lighting unknown  Kensington and Chelsea  -0.210215   \n",
       "3                          Daylight  Kensington and Chelsea  -0.202731   \n",
       "4             Darkness - lights lit  Kensington and Chelsea  -0.192487   \n",
       "...                             ...                     ...        ...   \n",
       "660674                     Daylight                Highland  -3.467828   \n",
       "660675       Darkness - no lighting                Highland  -3.809281   \n",
       "660676                     Daylight                Highland  -3.862727   \n",
       "660677       Darkness - no lighting                Highland  -3.823997   \n",
       "660678                     Daylight                Highland  -3.895673   \n",
       "\n",
       "        Number_of_Casualties  Number_of_Vehicles Road_Surface_Conditions  \\\n",
       "0                          1                   2                     Dry   \n",
       "1                          1                   2             Wet or damp   \n",
       "2                          1                   3                     Dry   \n",
       "3                          1                   4                     Dry   \n",
       "4                          1                   2                     Dry   \n",
       "...                      ...                 ...                     ...   \n",
       "660674                     2                   1                     Dry   \n",
       "660675                     1                   1            Frost or ice   \n",
       "660676                     1                   3            Frost or ice   \n",
       "660677                     1                   2             Wet or damp   \n",
       "660678                     1                   1             Wet or damp   \n",
       "\n",
       "                 Road_Type Urban_or_Rural_Area     Weather_Conditions  \\\n",
       "0       Single carriageway               Urban     Fine no high winds   \n",
       "1       Single carriageway               Urban  Raining no high winds   \n",
       "2                      NaN               Urban                    NaN   \n",
       "3       Single carriageway               Urban     Fine no high winds   \n",
       "4                      NaN               Urban                    NaN   \n",
       "...                    ...                 ...                    ...   \n",
       "660674  Single carriageway               Rural     Fine no high winds   \n",
       "660675  Single carriageway               Rural     Fine no high winds   \n",
       "660676  Single carriageway               Rural     Fine no high winds   \n",
       "660677  Single carriageway               Rural     Fine no high winds   \n",
       "660678    Dual carriageway               Rural  Snowing no high winds   \n",
       "\n",
       "                                Vehicle_Type  \n",
       "0                                        Car  \n",
       "1                                        Car  \n",
       "2                      Taxi/Private hire car  \n",
       "3       Bus or coach (17 or more pass seats)  \n",
       "4                              Other vehicle  \n",
       "...                                      ...  \n",
       "660674                                   Car  \n",
       "660675                                   Car  \n",
       "660676                                   Car  \n",
       "660677                 Motorcycle over 500cc  \n",
       "660678                                   Car  \n",
       "\n",
       "[660679 rows x 14 columns]"
      ]
     },
     "execution_count": 3,
     "metadata": {},
     "output_type": "execute_result"
    }
   ],
   "source": [
    "drive"
   ]
  },
  {
   "cell_type": "code",
   "execution_count": 4,
   "id": "645eb597-8880-44e2-ac85-5f87b02cf121",
   "metadata": {
    "scrolled": true
   },
   "outputs": [],
   "source": [
    "drive['Latitude'] = drive['Latitude'].fillna(drive['Latitude'].mode()[0])\n",
    "drive['Longitude'] = drive['Longitude'].fillna(drive['Longitude'].mode()[0])\n",
    "drive['Road_Surface_Conditions'] = drive['Road_Surface_Conditions'].fillna(drive['Road_Surface_Conditions'].mode()[0])\n",
    "drive['Road_Type'] = drive['Road_Type'].fillna(drive['Road_Type'].mode()[0])\n",
    "drive['Urban_or_Rural_Area'] = drive['Urban_or_Rural_Area'].fillna(drive['Urban_or_Rural_Area'].mode()[0])\n",
    "drive['Weather_Conditions'] = drive['Weather_Conditions'].fillna(drive['Weather_Conditions'].mode()[0])"
   ]
  },
  {
   "cell_type": "code",
   "execution_count": 5,
   "id": "98ed0b1b-0774-4a4e-9815-ab8c7ce759c7",
   "metadata": {},
   "outputs": [
    {
     "data": {
      "text/plain": [
       "Index                      0\n",
       "Accident_Severity          0\n",
       "Accident Date              0\n",
       "Latitude                   0\n",
       "Light_Conditions           0\n",
       "District Area              0\n",
       "Longitude                  0\n",
       "Number_of_Casualties       0\n",
       "Number_of_Vehicles         0\n",
       "Road_Surface_Conditions    0\n",
       "Road_Type                  0\n",
       "Urban_or_Rural_Area        0\n",
       "Weather_Conditions         0\n",
       "Vehicle_Type               0\n",
       "dtype: int64"
      ]
     },
     "execution_count": 5,
     "metadata": {},
     "output_type": "execute_result"
    }
   ],
   "source": [
    "drive.isnull().sum()"
   ]
  },
  {
   "cell_type": "code",
   "execution_count": 6,
   "id": "4ed1b351-0fd5-4835-8159-74edb70e81cc",
   "metadata": {},
   "outputs": [],
   "source": [
    "drive['Accident_Severity'] = drive['Accident_Severity'].astype('category')\n",
    "drive['Light_Conditions'] = drive['Light_Conditions'].astype('category')\n",
    "drive['District Area'] = drive['District Area'].astype('category')\n",
    "drive['Road_Surface_Conditions'] = drive['Road_Surface_Conditions'].astype('category')\n",
    "drive['Road_Type'] = drive['Road_Type'].astype('category')\n",
    "drive['Urban_or_Rural_Area'] = drive['Urban_or_Rural_Area'].astype('category')\n",
    "drive['Weather_Conditions'] = drive['Weather_Conditions'].astype('category')\n",
    "drive['Vehicle_Type'] = drive['Vehicle_Type'].astype('category')"
   ]
  },
  {
   "cell_type": "code",
   "execution_count": 7,
   "id": "87255a2e-ebb4-41ca-9604-9e6ff6b7dea1",
   "metadata": {},
   "outputs": [
    {
     "data": {
      "text/plain": [
       "Index                        object\n",
       "Accident_Severity          category\n",
       "Accident Date                object\n",
       "Latitude                    float64\n",
       "Light_Conditions           category\n",
       "District Area              category\n",
       "Longitude                   float64\n",
       "Number_of_Casualties          int64\n",
       "Number_of_Vehicles            int64\n",
       "Road_Surface_Conditions    category\n",
       "Road_Type                  category\n",
       "Urban_or_Rural_Area        category\n",
       "Weather_Conditions         category\n",
       "Vehicle_Type               category\n",
       "dtype: object"
      ]
     },
     "execution_count": 7,
     "metadata": {},
     "output_type": "execute_result"
    }
   ],
   "source": [
    "drive.dtypes"
   ]
  },
  {
   "cell_type": "code",
   "execution_count": 8,
   "id": "c6eacd13-7461-4d56-ac93-63c8395e4d22",
   "metadata": {},
   "outputs": [],
   "source": [
    "drive['Accident Date'] = drive['Accident Date'].str.strip()"
   ]
  },
  {
   "cell_type": "code",
   "execution_count": 9,
   "id": "643ed643-e9a6-4da5-afe8-5e3573a9791c",
   "metadata": {},
   "outputs": [],
   "source": [
    "drive['Accident Date'] = drive['Accident Date'].astype('str')"
   ]
  },
  {
   "cell_type": "code",
   "execution_count": 10,
   "id": "8ed455da-2225-4470-b6c2-62bb90f01901",
   "metadata": {},
   "outputs": [],
   "source": [
    "drive['Accident Date'] = drive['Accident Date'].str.replace('/','-')"
   ]
  },
  {
   "cell_type": "code",
   "execution_count": 11,
   "id": "d4cc95cf-07e7-4786-a907-5b892e48ee12",
   "metadata": {},
   "outputs": [],
   "source": [
    "drive['Accident Date'] = pd.to_datetime(drive['Accident Date'], dayfirst = True, errors ='coerce')"
   ]
  },
  {
   "cell_type": "code",
   "execution_count": 12,
   "id": "d8455902-6996-452d-b6ec-8e2ee0f69a50",
   "metadata": {},
   "outputs": [
    {
     "data": {
      "text/plain": [
       "Index                              object\n",
       "Accident_Severity                category\n",
       "Accident Date              datetime64[ns]\n",
       "Latitude                          float64\n",
       "Light_Conditions                 category\n",
       "District Area                    category\n",
       "Longitude                         float64\n",
       "Number_of_Casualties                int64\n",
       "Number_of_Vehicles                  int64\n",
       "Road_Surface_Conditions          category\n",
       "Road_Type                        category\n",
       "Urban_or_Rural_Area              category\n",
       "Weather_Conditions               category\n",
       "Vehicle_Type                     category\n",
       "dtype: object"
      ]
     },
     "execution_count": 12,
     "metadata": {},
     "output_type": "execute_result"
    }
   ],
   "source": [
    "drive.dtypes"
   ]
  },
  {
   "cell_type": "code",
   "execution_count": 13,
   "id": "7b452a8e-bda4-4ddb-b810-5509f0df2285",
   "metadata": {},
   "outputs": [],
   "source": [
    "drive['Year'] = drive['Accident Date'].dt.year\n",
    "drive['Month'] = drive['Accident Date'].dt.month\n",
    "drive['Day'] = drive['Accident Date'].dt.day\n",
    "drive['DayOfWeek'] = drive['Accident Date'].dt.dayofweek"
   ]
  },
  {
   "cell_type": "code",
   "execution_count": 14,
   "id": "c350dbc8-268d-4163-aa4d-4cf20733c3ce",
   "metadata": {},
   "outputs": [
    {
     "data": {
      "text/plain": [
       "Index                      0\n",
       "Accident_Severity          0\n",
       "Accident Date              0\n",
       "Latitude                   0\n",
       "Light_Conditions           0\n",
       "District Area              0\n",
       "Longitude                  0\n",
       "Number_of_Casualties       0\n",
       "Number_of_Vehicles         0\n",
       "Road_Surface_Conditions    0\n",
       "Road_Type                  0\n",
       "Urban_or_Rural_Area        0\n",
       "Weather_Conditions         0\n",
       "Vehicle_Type               0\n",
       "Year                       0\n",
       "Month                      0\n",
       "Day                        0\n",
       "DayOfWeek                  0\n",
       "dtype: int64"
      ]
     },
     "execution_count": 14,
     "metadata": {},
     "output_type": "execute_result"
    }
   ],
   "source": [
    "drive.isnull().sum()"
   ]
  },
  {
   "cell_type": "markdown",
   "id": "d9fb0f70-3e5b-4a2b-936b-d3411b1c9876",
   "metadata": {},
   "source": [
    "<h3>Questions & Insights</h3>\n",
    "<hr>"
   ]
  },
  {
   "cell_type": "code",
   "execution_count": 15,
   "id": "583f747c-c902-4800-a71d-94fd58ab026b",
   "metadata": {},
   "outputs": [
    {
     "name": "stdout",
     "output_type": "stream",
     "text": [
      "Defaulting to user installation because normal site-packages is not writeable\n",
      "Requirement already satisfied: plotly in c:\\users\\dell\\appdata\\local\\packages\\pythonsoftwarefoundation.python.3.13_qbz5n2kfra8p0\\localcache\\local-packages\\python313\\site-packages (6.3.0)\n",
      "Requirement already satisfied: narwhals>=1.15.1 in c:\\users\\dell\\appdata\\local\\packages\\pythonsoftwarefoundation.python.3.13_qbz5n2kfra8p0\\localcache\\local-packages\\python313\\site-packages (from plotly) (2.4.0)\n",
      "Requirement already satisfied: packaging in c:\\users\\dell\\appdata\\local\\packages\\pythonsoftwarefoundation.python.3.13_qbz5n2kfra8p0\\localcache\\local-packages\\python313\\site-packages (from plotly) (25.0)\n",
      "Note: you may need to restart the kernel to use updated packages.\n"
     ]
    }
   ],
   "source": [
    "import matplotlib.pyplot as plt\n",
    "%pip install plotly"
   ]
  },
  {
   "cell_type": "markdown",
   "id": "4254b4fc-f641-4d51-897e-b8c2e6125a44",
   "metadata": {},
   "source": [
    "<h3>Question NO.1</h3>\n",
    "<h4> In the accidents that happend which of the Accident_Severity has the most counts?</h4>"
   ]
  },
  {
   "cell_type": "code",
   "execution_count": 16,
   "id": "e92cb923-32c3-45aa-91cd-eee960f47fe5",
   "metadata": {},
   "outputs": [
    {
     "data": {
      "text/plain": [
       "Accident_Severity\n",
       "Slight     563801\n",
       "Serious     88217\n",
       "Fatal        8661\n",
       "Name: count, dtype: int64"
      ]
     },
     "execution_count": 16,
     "metadata": {},
     "output_type": "execute_result"
    }
   ],
   "source": [
    "drive['Accident_Severity'].value_counts()"
   ]
  },
  {
   "cell_type": "markdown",
   "id": "3aea11dc-22e5-422c-a28c-381268a5b467",
   "metadata": {},
   "source": [
    "<h3>Insights NO.1</h3>\n",
    "<h4>Accorging to the data Slight damage has the most number</h4>"
   ]
  },
  {
   "cell_type": "code",
   "execution_count": 17,
   "id": "4673ddc0-57fc-4fd1-b1d1-1de18c05b230",
   "metadata": {},
   "outputs": [
    {
     "name": "stderr",
     "output_type": "stream",
     "text": [
      "C:\\Users\\DELL\\AppData\\Local\\Temp\\ipykernel_10228\\333496358.py:1: FutureWarning: The default of observed=False is deprecated and will be changed to True in a future version of pandas. Pass observed=False to retain current behavior or observed=True to adopt the future default and silence this warning.\n",
      "  drive.groupby('Accident_Severity')['Index'].count().plot(kind='bar')\n"
     ]
    },
    {
     "data": {
      "text/plain": [
       "<Axes: xlabel='Accident_Severity'>"
      ]
     },
     "execution_count": 17,
     "metadata": {},
     "output_type": "execute_result"
    },
    {
     "data": {
      "image/png": "[encoded data removed]",
      "text/plain": [
       "<Figure size 640x480 with 1 Axes>"
      ]
     },
     "metadata": {},
     "output_type": "display_data"
    }
   ],
   "source": [
    "drive.groupby('Accident_Severity')['Index'].count().plot(kind='bar')"
   ]
  },
  {
   "cell_type": "markdown",
   "id": "c76bdf34-4c6d-4e3e-9ecf-d7d4fab4be99",
   "metadata": {},
   "source": [
    "<h3>Question NO.2</h3>\n",
    "<h4>What weather had the most serious vihicle accident that happend?</h4>"
   ]
  },
  {
   "cell_type": "code",
   "execution_count": 18,
   "id": "52b29fdc-d86a-430e-a3ec-8d2078c949e9",
   "metadata": {},
   "outputs": [
    {
     "name": "stderr",
     "output_type": "stream",
     "text": [
      "C:\\Users\\DELL\\AppData\\Local\\Temp\\ipykernel_10228\\2155991104.py:1: FutureWarning: The default of observed=False is deprecated and will be changed to True in a future version of pandas. Pass observed=False to retain current behavior or observed=True to adopt the future default and silence this warning.\n",
      "  weather = drive.groupby(['Weather_Conditions', 'Accident_Severity']).size()\n"
     ]
    },
    {
     "data": {
      "text/html": [
       "<div>\n",
       "<style scoped>\n",
       "    .dataframe tbody tr th:only-of-type {\n",
       "        vertical-align: middle;\n",
       "    }\n",
       "\n",
       "    .dataframe tbody tr th {\n",
       "        vertical-align: top;\n",
       "    }\n",
       "\n",
       "    .dataframe thead th {\n",
       "        text-align: right;\n",
       "    }\n",
       "</style>\n",
       "<table border=\"1\" class=\"dataframe\">\n",
       "  <thead>\n",
       "    <tr style=\"text-align: right;\">\n",
       "      <th>Accident_Severity</th>\n",
       "      <th>Fatal</th>\n",
       "      <th>Serious</th>\n",
       "      <th>Slight</th>\n",
       "    </tr>\n",
       "    <tr>\n",
       "      <th>Weather_Conditions</th>\n",
       "      <th></th>\n",
       "      <th></th>\n",
       "      <th></th>\n",
       "    </tr>\n",
       "  </thead>\n",
       "  <tbody>\n",
       "    <tr>\n",
       "      <th>Fine + high winds</th>\n",
       "      <td>175</td>\n",
       "      <td>1245</td>\n",
       "      <td>7134</td>\n",
       "    </tr>\n",
       "    <tr>\n",
       "      <th>Fine no high winds</th>\n",
       "      <td>7207</td>\n",
       "      <td>73285</td>\n",
       "      <td>454521</td>\n",
       "    </tr>\n",
       "    <tr>\n",
       "      <th>Fog or mist</th>\n",
       "      <td>82</td>\n",
       "      <td>483</td>\n",
       "      <td>2963</td>\n",
       "    </tr>\n",
       "    <tr>\n",
       "      <th>Other</th>\n",
       "      <td>165</td>\n",
       "      <td>1801</td>\n",
       "      <td>15184</td>\n",
       "    </tr>\n",
       "    <tr>\n",
       "      <th>Raining + high winds</th>\n",
       "      <td>145</td>\n",
       "      <td>1261</td>\n",
       "      <td>8209</td>\n",
       "    </tr>\n",
       "    <tr>\n",
       "      <th>Raining no high winds</th>\n",
       "      <td>848</td>\n",
       "      <td>9468</td>\n",
       "      <td>69380</td>\n",
       "    </tr>\n",
       "    <tr>\n",
       "      <th>Snowing + high winds</th>\n",
       "      <td>3</td>\n",
       "      <td>109</td>\n",
       "      <td>773</td>\n",
       "    </tr>\n",
       "    <tr>\n",
       "      <th>Snowing no high winds</th>\n",
       "      <td>36</td>\n",
       "      <td>565</td>\n",
       "      <td>5637</td>\n",
       "    </tr>\n",
       "  </tbody>\n",
       "</table>\n",
       "</div>"
      ],
      "text/plain": [
       "Accident_Severity      Fatal  Serious  Slight\n",
       "Weather_Conditions                           \n",
       "Fine + high winds        175     1245    7134\n",
       "Fine no high winds      7207    73285  454521\n",
       "Fog or mist               82      483    2963\n",
       "Other                    165     1801   15184\n",
       "Raining + high winds     145     1261    8209\n",
       "Raining no high winds    848     9468   69380\n",
       "Snowing + high winds       3      109     773\n",
       "Snowing no high winds     36      565    5637"
      ]
     },
     "execution_count": 18,
     "metadata": {},
     "output_type": "execute_result"
    }
   ],
   "source": [
    "weather = drive.groupby(['Weather_Conditions', 'Accident_Severity']).size()\n",
    "weather.unstack()"
   ]
  },
  {
   "cell_type": "markdown",
   "id": "2a50ff58-d048-4307-9dc8-e31c2b95ed52",
   "metadata": {},
   "source": [
    "<h3>Insights NO.2</h3>\n",
    "<h4>The Fine no high winds weather has the most seriouse accident with 72046 total incident</h4>"
   ]
  },
  {
   "cell_type": "markdown",
   "id": "c9d7c535-7ab8-4f9f-940d-8b142729d883",
   "metadata": {},
   "source": [
    "<h3>Question NO.3</h3>\n",
    "<h4>In the Road Surface Conditions what is prone to accident?</h4>"
   ]
  },
  {
   "cell_type": "code",
   "execution_count": 19,
   "id": "9f697f60-7e6f-4c09-8efa-0aa1ae498ee4",
   "metadata": {},
   "outputs": [
    {
     "data": {
      "text/plain": [
       "Road_Surface_Conditions\n",
       "Dry                     448547\n",
       "Wet or damp             186708\n",
       "Frost or ice             18517\n",
       "Snow                      5890\n",
       "Flood over 3cm. deep      1017\n",
       "Name: count, dtype: int64"
      ]
     },
     "execution_count": 19,
     "metadata": {},
     "output_type": "execute_result"
    }
   ],
   "source": [
    "drive['Road_Surface_Conditions'].value_counts()"
   ]
  },
  {
   "cell_type": "code",
   "execution_count": 20,
   "id": "b123d0f2-a616-40ca-9019-28a248ee129b",
   "metadata": {},
   "outputs": [
    {
     "data": {
      "image/png": "[encoded data removed]",
      "text/plain": [
       "<Figure size 640x480 with 1 Axes>"
      ]
     },
     "metadata": {},
     "output_type": "display_data"
    }
   ],
   "source": [
    "drive['Road_Surface_Conditions'].value_counts().plot(kind = 'bar')\n",
    "plt.show()"
   ]
  },
  {
   "cell_type": "markdown",
   "id": "cfa6ee8b-7b21-4a51-9402-719962aea8e1",
   "metadata": {},
   "source": [
    "<h3>Insights NO.3</h3>\n",
    "<h4>The Dry surface has the highest incident</h4>"
   ]
  },
  {
   "cell_type": "markdown",
   "id": "7a6f13a8-f70d-4359-8b9a-3f7733a74ca8",
   "metadata": {},
   "source": [
    "<h3>Question NO.4</h3>\n",
    "<h4>What kind of vehicle has the highest accident record</h4>"
   ]
  },
  {
   "cell_type": "code",
   "execution_count": 21,
   "id": "e133b737-6694-4783-8281-0fb27909f986",
   "metadata": {},
   "outputs": [
    {
     "data": {
      "text/plain": [
       "Vehicle_Type\n",
       "Car                                      497992\n",
       "Van / Goods 3.5 tonnes mgw or under       34160\n",
       "Bus or coach (17 or more pass seats)      25878\n",
       "Motorcycle over 500cc                     25657\n",
       "Goods 7.5 tonnes mgw and over             17307\n",
       "Motorcycle 125cc and under                15269\n",
       "Taxi/Private hire car                     13294\n",
       "Motorcycle over 125cc and up to 500cc      7656\n",
       "Motorcycle 50cc and under                  7603\n",
       "Goods over 3.5t. and under 7.5t            6096\n",
       "Other vehicle                              5637\n",
       "Minibus (8 - 16 passenger seats)           1976\n",
       "Agricultural vehicle                       1947\n",
       "Pedal cycle                                 197\n",
       "Data missing or out of range                  6\n",
       "Ridden horse                                  4\n",
       "Name: count, dtype: int64"
      ]
     },
     "execution_count": 21,
     "metadata": {},
     "output_type": "execute_result"
    }
   ],
   "source": [
    "drive['Vehicle_Type'].value_counts()\n"
   ]
  },
  {
   "cell_type": "code",
   "execution_count": 22,
   "id": "f0d13dce-373c-4109-8135-7f04476acaab",
   "metadata": {},
   "outputs": [
    {
     "data": {
      "image/png": "[encoded data removed]",
      "text/plain": [
       "<Figure size 640x480 with 1 Axes>"
      ]
     },
     "metadata": {},
     "output_type": "display_data"
    }
   ],
   "source": [
    "drive['Vehicle_Type'].value_counts().plot(kind = \"bar\")\n",
    "plt.show()"
   ]
  },
  {
   "cell_type": "code",
   "execution_count": 23,
   "id": "eee42bf5-5702-4d14-baa8-9c7f982fcdef",
   "metadata": {},
   "outputs": [
    {
     "data": {
      "image/png": "[encoded data removed]",
      "text/plain": [
       "<Figure size 640x480 with 1 Axes>"
      ]
     },
     "metadata": {},
     "output_type": "display_data"
    }
   ],
   "source": [
    "wacar = drive[drive['Vehicle_Type'] !='Car']\n",
    "wacar['Vehicle_Type'].value_counts().plot(kind = \"bar\")\n",
    "plt.show()"
   ]
  },
  {
   "cell_type": "markdown",
   "id": "b18acf34-a8a7-482f-b52e-e1ac2389e993",
   "metadata": {},
   "source": [
    "<h3>Insights NO.4</h3>\n",
    "<h4>The Car has the most accident record</h4>"
   ]
  },
  {
   "cell_type": "markdown",
   "id": "52b176d2-5296-4db6-a5b7-70a131a32dbe",
   "metadata": {},
   "source": [
    "<h3>Question NO.5</h3>\n",
    "<h3>Which of the two Urban and Rural have more accident records?</h3>"
   ]
  },
  {
   "cell_type": "code",
   "execution_count": 24,
   "id": "956f956f-ebd7-4a02-bdec-dc8a84daea7b",
   "metadata": {},
   "outputs": [],
   "source": [
    "UR = drive['Urban_or_Rural_Area'].value_counts()"
   ]
  },
  {
   "cell_type": "code",
   "execution_count": 25,
   "id": "bb3a5033-b314-401c-aa64-f29a7cce6052",
   "metadata": {},
   "outputs": [
    {
     "data": {
      "text/plain": [
       "CategoricalIndex(['Urban', 'Rural', 'Unallocated'], categories=['Rural', 'Unallocated', 'Urban'], ordered=False, dtype='category', name='Urban_or_Rural_Area')"
      ]
     },
     "execution_count": 25,
     "metadata": {},
     "output_type": "execute_result"
    }
   ],
   "source": [
    "UR.index"
   ]
  },
  {
   "cell_type": "code",
   "execution_count": 26,
   "id": "cf748f34-780f-43d8-b806-368ed4e74742",
   "metadata": {},
   "outputs": [
    {
     "data": {
      "text/plain": [
       "array([421678, 238990,     11])"
      ]
     },
     "execution_count": 26,
     "metadata": {},
     "output_type": "execute_result"
    }
   ],
   "source": [
    "UR.values"
   ]
  },
  {
   "cell_type": "code",
   "execution_count": 27,
   "id": "f582bf99-4cb7-4097-93c4-02a0dbff750f",
   "metadata": {},
   "outputs": [
    {
     "data": {
      "image/png": "[encoded data removed]",
      "text/plain": [
       "<Figure size 640x480 with 1 Axes>"
      ]
     },
     "metadata": {},
     "output_type": "display_data"
    }
   ],
   "source": [
    "plt.pie(UR, \n",
    "        labels = UR.index,\n",
    "        startangle = 90,\n",
    "        autopct = '%1.1f%%'\n",
    "       )\n",
    "plt.show()"
   ]
  },
  {
   "cell_type": "markdown",
   "id": "c91cab3f-a1b8-4c4c-b4ca-238a2b089a08",
   "metadata": {},
   "source": [
    "<h3>Insights NO.5</h3>\n",
    "<h4>The Urban has more accidents with 63.8% records than Rural with 36.2% records</h4>"
   ]
  },
  {
   "cell_type": "markdown",
   "id": "87bc8528-1fd9-4278-8f42-18b96aba9e41",
   "metadata": {},
   "source": [
    "<h3>Question NO.6</h3>\n",
    "<h4>Which part in the UK have the highest number of recorded road accidents?</h4>"
   ]
  },
  {
   "cell_type": "code",
   "execution_count": 28,
   "id": "7d1ffb51-5956-4416-9af6-0642a5f68a29",
   "metadata": {},
   "outputs": [
    {
     "data": {
      "text/plain": [
       "District Area\n",
       "Birmingham            13491\n",
       "Leeds                  8898\n",
       "Manchester             6720\n",
       "Bradford               6212\n",
       "Sheffield              5710\n",
       "                      ...  \n",
       "Berwick-upon-Tweed      153\n",
       "Teesdale                142\n",
       "Shetland Islands        133\n",
       "Orkney Islands          117\n",
       "Clackmannanshire         91\n",
       "Name: count, Length: 422, dtype: int64"
      ]
     },
     "execution_count": 28,
     "metadata": {},
     "output_type": "execute_result"
    }
   ],
   "source": [
    "drive['District Area'].value_counts()"
   ]
  },
  {
   "cell_type": "markdown",
   "id": "9d5122ac-2aca-4ace-af6a-626a214c1223",
   "metadata": {},
   "source": [
    "<h3>Insight no.6</h3>\n",
    "<h4>According to the computation Birmingham has the most accidents that happend </h4>"
   ]
  },
  {
   "cell_type": "markdown",
   "id": "5620da9c-2142-40db-9791-73d18a73bcc2",
   "metadata": {},
   "source": [
    "<h3>Question NO.7</h3>\n",
    "<h4>How many person is usually involve in a road accident?</h4>"
   ]
  },
  {
   "cell_type": "code",
   "execution_count": 29,
   "id": "70cd2398-0617-4fce-8578-8633ed281475",
   "metadata": {},
   "outputs": [
    {
     "data": {
      "text/plain": [
       "0    1\n",
       "Name: Number_of_Casualties, dtype: int64"
      ]
     },
     "execution_count": 29,
     "metadata": {},
     "output_type": "execute_result"
    }
   ],
   "source": [
    "drive['Number_of_Casualties'].mode()"
   ]
  },
  {
   "cell_type": "markdown",
   "id": "e2f21ca0-8345-489b-8fff-e7752acb7664",
   "metadata": {},
   "source": [
    "<h3>Insights.No.7</h3>\n",
    "<h4>Mostly only one person is involved on a road accident</h4>"
   ]
  },
  {
   "cell_type": "markdown",
   "id": "dbd734a7-6ade-4f3f-9bc6-1626296d33fb",
   "metadata": {},
   "source": [
    "<h3>Question NO.8</h3>\n",
    "<h4>What weather has the least accident record?</h4>"
   ]
  },
  {
   "cell_type": "code",
   "execution_count": 30,
   "id": "cca1bc8e-d38c-41c0-a18f-ef7bfd95a97e",
   "metadata": {},
   "outputs": [
    {
     "data": {
      "text/plain": [
       "Weather_Conditions\n",
       "Fine no high winds       535013\n",
       "Raining no high winds     79696\n",
       "Other                     17150\n",
       "Raining + high winds       9615\n",
       "Fine + high winds          8554\n",
       "Snowing no high winds      6238\n",
       "Fog or mist                3528\n",
       "Snowing + high winds        885\n",
       "Name: count, dtype: int64"
      ]
     },
     "execution_count": 30,
     "metadata": {},
     "output_type": "execute_result"
    }
   ],
   "source": [
    "drive['Weather_Conditions'].value_counts()"
   ]
  },
  {
   "cell_type": "code",
   "execution_count": 31,
   "id": "e15273d8-4a3f-4800-82a1-5f5a2e16ba72",
   "metadata": {},
   "outputs": [
    {
     "data": {
      "image/png": "[encoded data removed]",
      "text/plain": [
       "<Figure size 640x480 with 1 Axes>"
      ]
     },
     "metadata": {},
     "output_type": "display_data"
    }
   ],
   "source": [
    "drive['Weather_Conditions'].value_counts().plot(kind = 'bar')\n",
    "plt.show()"
   ]
  },
  {
   "cell_type": "code",
   "execution_count": 32,
   "id": "f9324488-08eb-4d98-a3c0-91744461aa98",
   "metadata": {},
   "outputs": [
    {
     "data": {
      "image/png": "[encoded data removed]",
      "text/plain": [
       "<Figure size 640x480 with 1 Axes>"
      ]
     },
     "metadata": {},
     "output_type": "display_data"
    }
   ],
   "source": [
    "WE=drive [drive['Weather_Conditions'] !='Fine no high winds']\n",
    "WE['Weather_Conditions'].value_counts().plot(kind = 'bar')\n",
    "plt.show()"
   ]
  },
  {
   "cell_type": "markdown",
   "id": "cda02a33-91c7-499c-8cd0-5c77d19dbcd9",
   "metadata": {},
   "source": [
    "<h3>Insights NO.8</h3>\n",
    "<h4>The Snowing + high winds has the least accident record</h4>"
   ]
  },
  {
   "cell_type": "markdown",
   "id": "44a24e26-87bb-40c8-8871-ea88cd6469f8",
   "metadata": {},
   "source": [
    "<h3>Question NO.9</h3>\n",
    "<h4>How many vehicle mostly have an accident in one scene?</h4>"
   ]
  },
  {
   "cell_type": "code",
   "execution_count": 33,
   "id": "b5043502-4a3f-4051-a222-d9ac66d48516",
   "metadata": {},
   "outputs": [
    {
     "data": {
      "text/plain": [
       "Number_of_Vehicles\n",
       "2     391995\n",
       "1     200787\n",
       "3      52806\n",
       "4      11300\n",
       "5       2464\n",
       "6        758\n",
       "7        296\n",
       "8        147\n",
       "9         57\n",
       "10        27\n",
       "11        12\n",
       "14         9\n",
       "12         7\n",
       "13         6\n",
       "16         4\n",
       "28         1\n",
       "15         1\n",
       "32         1\n",
       "19         1\n",
       "Name: count, dtype: int64"
      ]
     },
     "execution_count": 33,
     "metadata": {},
     "output_type": "execute_result"
    }
   ],
   "source": [
    "drive['Number_of_Vehicles'].value_counts()"
   ]
  },
  {
   "cell_type": "markdown",
   "id": "3e64c188-d4ea-4bc0-8918-080ef9b29127",
   "metadata": {},
   "source": [
    "<h3>Insights NO.9</h3>\n",
    "<h4>2 Vehicles has the most record of an accident in one scene</h4>"
   ]
  },
  {
   "cell_type": "markdown",
   "id": "3d9c2dcd-1937-4719-904b-c320dcf8c115",
   "metadata": {},
   "source": [
    "<h3>Question NO.10</h3>\n",
    "<h4>In this two different kind of vehicle <b>(Agricultural vehicle)</b>, <b>(Van)</b> which of the two has more accident in a single carriageway?</h4>"
   ]
  },
  {
   "cell_type": "code",
   "execution_count": 34,
   "id": "e2c8128d-1fd5-4f28-8d70-c3087338fe3b",
   "metadata": {},
   "outputs": [
    {
     "name": "stderr",
     "output_type": "stream",
     "text": [
      "C:\\Users\\DELL\\AppData\\Local\\Temp\\ipykernel_10228\\2368358230.py:1: FutureWarning: The default of observed=False is deprecated and will be changed to True in a future version of pandas. Pass observed=False to retain current behavior or observed=True to adopt the future default and silence this warning.\n",
      "  rr= drive.groupby(['Vehicle_Type','Road_Type']).size()\n"
     ]
    },
    {
     "data": {
      "text/plain": [
       "Vehicle_Type                         Road_Type         \n",
       "Agricultural vehicle                 Dual carriageway        293\n",
       "                                     One way street           49\n",
       "                                     Roundabout              129\n",
       "                                     Single carriageway     1449\n",
       "                                     Slip road                27\n",
       "                                                           ...  \n",
       "Van / Goods 3.5 tonnes mgw or under  Dual carriageway       5107\n",
       "                                     One way street          723\n",
       "                                     Roundabout             2294\n",
       "                                     Single carriageway    25675\n",
       "                                     Slip road               361\n",
       "Length: 80, dtype: int64"
      ]
     },
     "execution_count": 34,
     "metadata": {},
     "output_type": "execute_result"
    }
   ],
   "source": [
    "rr= drive.groupby(['Vehicle_Type','Road_Type']).size()\n",
    "rr"
   ]
  },
  {
   "cell_type": "code",
   "execution_count": 35,
   "id": "004b4c67-8469-4398-bb48-d067c1da4753",
   "metadata": {},
   "outputs": [
    {
     "data": {
      "text/html": [
       "<div>\n",
       "<style scoped>\n",
       "    .dataframe tbody tr th:only-of-type {\n",
       "        vertical-align: middle;\n",
       "    }\n",
       "\n",
       "    .dataframe tbody tr th {\n",
       "        vertical-align: top;\n",
       "    }\n",
       "\n",
       "    .dataframe thead th {\n",
       "        text-align: right;\n",
       "    }\n",
       "</style>\n",
       "<table border=\"1\" class=\"dataframe\">\n",
       "  <thead>\n",
       "    <tr style=\"text-align: right;\">\n",
       "      <th>Road_Type</th>\n",
       "      <th>Dual carriageway</th>\n",
       "      <th>One way street</th>\n",
       "      <th>Roundabout</th>\n",
       "      <th>Single carriageway</th>\n",
       "      <th>Slip road</th>\n",
       "    </tr>\n",
       "    <tr>\n",
       "      <th>Vehicle_Type</th>\n",
       "      <th></th>\n",
       "      <th></th>\n",
       "      <th></th>\n",
       "      <th></th>\n",
       "      <th></th>\n",
       "    </tr>\n",
       "  </thead>\n",
       "  <tbody>\n",
       "    <tr>\n",
       "      <th>Agricultural vehicle</th>\n",
       "      <td>293</td>\n",
       "      <td>49</td>\n",
       "      <td>129</td>\n",
       "      <td>1449</td>\n",
       "      <td>27</td>\n",
       "    </tr>\n",
       "    <tr>\n",
       "      <th>Bus or coach (17 or more pass seats)</th>\n",
       "      <td>4043</td>\n",
       "      <td>546</td>\n",
       "      <td>1704</td>\n",
       "      <td>19300</td>\n",
       "      <td>285</td>\n",
       "    </tr>\n",
       "    <tr>\n",
       "      <th>Car</th>\n",
       "      <td>74820</td>\n",
       "      <td>10223</td>\n",
       "      <td>33187</td>\n",
       "      <td>374464</td>\n",
       "      <td>5298</td>\n",
       "    </tr>\n",
       "    <tr>\n",
       "      <th>Data missing or out of range</th>\n",
       "      <td>1</td>\n",
       "      <td>0</td>\n",
       "      <td>0</td>\n",
       "      <td>5</td>\n",
       "      <td>0</td>\n",
       "    </tr>\n",
       "    <tr>\n",
       "      <th>Goods 7.5 tonnes mgw and over</th>\n",
       "      <td>2631</td>\n",
       "      <td>341</td>\n",
       "      <td>1110</td>\n",
       "      <td>13037</td>\n",
       "      <td>188</td>\n",
       "    </tr>\n",
       "    <tr>\n",
       "      <th>Goods over 3.5t. and under 7.5t</th>\n",
       "      <td>959</td>\n",
       "      <td>116</td>\n",
       "      <td>422</td>\n",
       "      <td>4541</td>\n",
       "      <td>58</td>\n",
       "    </tr>\n",
       "    <tr>\n",
       "      <th>Minibus (8 - 16 passenger seats)</th>\n",
       "      <td>275</td>\n",
       "      <td>40</td>\n",
       "      <td>138</td>\n",
       "      <td>1507</td>\n",
       "      <td>16</td>\n",
       "    </tr>\n",
       "    <tr>\n",
       "      <th>Motorcycle 125cc and under</th>\n",
       "      <td>2228</td>\n",
       "      <td>307</td>\n",
       "      <td>991</td>\n",
       "      <td>11596</td>\n",
       "      <td>147</td>\n",
       "    </tr>\n",
       "    <tr>\n",
       "      <th>Motorcycle 50cc and under</th>\n",
       "      <td>1085</td>\n",
       "      <td>133</td>\n",
       "      <td>512</td>\n",
       "      <td>5784</td>\n",
       "      <td>89</td>\n",
       "    </tr>\n",
       "    <tr>\n",
       "      <th>Motorcycle over 125cc and up to 500cc</th>\n",
       "      <td>1210</td>\n",
       "      <td>154</td>\n",
       "      <td>493</td>\n",
       "      <td>5701</td>\n",
       "      <td>98</td>\n",
       "    </tr>\n",
       "    <tr>\n",
       "      <th>Motorcycle over 500cc</th>\n",
       "      <td>3930</td>\n",
       "      <td>499</td>\n",
       "      <td>1737</td>\n",
       "      <td>19207</td>\n",
       "      <td>284</td>\n",
       "    </tr>\n",
       "    <tr>\n",
       "      <th>Other vehicle</th>\n",
       "      <td>835</td>\n",
       "      <td>130</td>\n",
       "      <td>386</td>\n",
       "      <td>4222</td>\n",
       "      <td>64</td>\n",
       "    </tr>\n",
       "    <tr>\n",
       "      <th>Pedal cycle</th>\n",
       "      <td>34</td>\n",
       "      <td>4</td>\n",
       "      <td>16</td>\n",
       "      <td>141</td>\n",
       "      <td>2</td>\n",
       "    </tr>\n",
       "    <tr>\n",
       "      <th>Ridden horse</th>\n",
       "      <td>0</td>\n",
       "      <td>0</td>\n",
       "      <td>0</td>\n",
       "      <td>4</td>\n",
       "      <td>0</td>\n",
       "    </tr>\n",
       "    <tr>\n",
       "      <th>Taxi/Private hire car</th>\n",
       "      <td>1973</td>\n",
       "      <td>294</td>\n",
       "      <td>873</td>\n",
       "      <td>10030</td>\n",
       "      <td>124</td>\n",
       "    </tr>\n",
       "    <tr>\n",
       "      <th>Van / Goods 3.5 tonnes mgw or under</th>\n",
       "      <td>5107</td>\n",
       "      <td>723</td>\n",
       "      <td>2294</td>\n",
       "      <td>25675</td>\n",
       "      <td>361</td>\n",
       "    </tr>\n",
       "  </tbody>\n",
       "</table>\n",
       "</div>"
      ],
      "text/plain": [
       "Road_Type                              Dual carriageway  One way street  \\\n",
       "Vehicle_Type                                                              \n",
       "Agricultural vehicle                                293              49   \n",
       "Bus or coach (17 or more pass seats)               4043             546   \n",
       "Car                                               74820           10223   \n",
       "Data missing or out of range                          1               0   \n",
       "Goods 7.5 tonnes mgw and over                      2631             341   \n",
       "Goods over 3.5t. and under 7.5t                     959             116   \n",
       "Minibus (8 - 16 passenger seats)                    275              40   \n",
       "Motorcycle 125cc and under                         2228             307   \n",
       "Motorcycle 50cc and under                          1085             133   \n",
       "Motorcycle over 125cc and up to 500cc              1210             154   \n",
       "Motorcycle over 500cc                              3930             499   \n",
       "Other vehicle                                       835             130   \n",
       "Pedal cycle                                          34               4   \n",
       "Ridden horse                                          0               0   \n",
       "Taxi/Private hire car                              1973             294   \n",
       "Van / Goods 3.5 tonnes mgw or under                5107             723   \n",
       "\n",
       "Road_Type                              Roundabout  Single carriageway  \\\n",
       "Vehicle_Type                                                            \n",
       "Agricultural vehicle                          129                1449   \n",
       "Bus or coach (17 or more pass seats)         1704               19300   \n",
       "Car                                         33187              374464   \n",
       "Data missing or out of range                    0                   5   \n",
       "Goods 7.5 tonnes mgw and over                1110               13037   \n",
       "Goods over 3.5t. and under 7.5t               422                4541   \n",
       "Minibus (8 - 16 passenger seats)              138                1507   \n",
       "Motorcycle 125cc and under                    991               11596   \n",
       "Motorcycle 50cc and under                     512                5784   \n",
       "Motorcycle over 125cc and up to 500cc         493                5701   \n",
       "Motorcycle over 500cc                        1737               19207   \n",
       "Other vehicle                                 386                4222   \n",
       "Pedal cycle                                    16                 141   \n",
       "Ridden horse                                    0                   4   \n",
       "Taxi/Private hire car                         873               10030   \n",
       "Van / Goods 3.5 tonnes mgw or under          2294               25675   \n",
       "\n",
       "Road_Type                              Slip road  \n",
       "Vehicle_Type                                      \n",
       "Agricultural vehicle                          27  \n",
       "Bus or coach (17 or more pass seats)         285  \n",
       "Car                                         5298  \n",
       "Data missing or out of range                   0  \n",
       "Goods 7.5 tonnes mgw and over                188  \n",
       "Goods over 3.5t. and under 7.5t               58  \n",
       "Minibus (8 - 16 passenger seats)              16  \n",
       "Motorcycle 125cc and under                   147  \n",
       "Motorcycle 50cc and under                     89  \n",
       "Motorcycle over 125cc and up to 500cc         98  \n",
       "Motorcycle over 500cc                        284  \n",
       "Other vehicle                                 64  \n",
       "Pedal cycle                                    2  \n",
       "Ridden horse                                   0  \n",
       "Taxi/Private hire car                        124  \n",
       "Van / Goods 3.5 tonnes mgw or under          361  "
      ]
     },
     "execution_count": 35,
     "metadata": {},
     "output_type": "execute_result"
    }
   ],
   "source": [
    "rr.unstack()"
   ]
  },
  {
   "cell_type": "markdown",
   "id": "8562cba4-8c82-4ab6-8201-7171cad6bce3",
   "metadata": {},
   "source": [
    "<h3>Insights NO.10</h3>\n",
    "<h4>The Van has more accident in a single carriageway than the Agriculture vehicle</h4>"
   ]
  },
  {
   "cell_type": "markdown",
   "id": "31c29968-df18-4790-baa5-3dea87aa0a9e",
   "metadata": {},
   "source": [
    "<h3>Question NO.11</h3>\n",
    "<h4>Which of the district areas has the least Road Surface Condition accidents?</h4>"
   ]
  },
  {
   "cell_type": "code",
   "execution_count": 36,
   "id": "534b33e9-e387-48c8-801d-e200cd7288f1",
   "metadata": {},
   "outputs": [
    {
     "name": "stderr",
     "output_type": "stream",
     "text": [
      "C:\\Users\\DELL\\AppData\\Local\\Temp\\ipykernel_10228\\2536427359.py:1: FutureWarning: The default of observed=False is deprecated and will be changed to True in a future version of pandas. Pass observed=False to retain current behavior or observed=True to adopt the future default and silence this warning.\n",
      "  DR= drive.groupby(['District Area', 'Road_Surface_Conditions']).size()\n"
     ]
    },
    {
     "data": {
      "text/plain": [
       "District Area  Road_Surface_Conditions\n",
       "Aberdeen City  Dry                         815\n",
       "               Flood over 3cm. deep          0\n",
       "               Frost or ice                 25\n",
       "               Snow                         15\n",
       "               Wet or damp                 468\n",
       "                                          ... \n",
       "York           Dry                        1325\n",
       "               Flood over 3cm. deep          0\n",
       "               Frost or ice                 42\n",
       "               Snow                         22\n",
       "               Wet or damp                 508\n",
       "Length: 2110, dtype: int64"
      ]
     },
     "execution_count": 36,
     "metadata": {},
     "output_type": "execute_result"
    }
   ],
   "source": [
    "DR= drive.groupby(['District Area', 'Road_Surface_Conditions']).size()\n",
    "DR"
   ]
  },
  {
   "cell_type": "code",
   "execution_count": 37,
   "id": "2e484a04-b6f7-4a55-8f97-6d66a8955d01",
   "metadata": {
    "scrolled": true
   },
   "outputs": [
    {
     "data": {
      "text/html": [
       "<div>\n",
       "<style scoped>\n",
       "    .dataframe tbody tr th:only-of-type {\n",
       "        vertical-align: middle;\n",
       "    }\n",
       "\n",
       "    .dataframe tbody tr th {\n",
       "        vertical-align: top;\n",
       "    }\n",
       "\n",
       "    .dataframe thead th {\n",
       "        text-align: right;\n",
       "    }\n",
       "</style>\n",
       "<table border=\"1\" class=\"dataframe\">\n",
       "  <thead>\n",
       "    <tr style=\"text-align: right;\">\n",
       "      <th>Road_Surface_Conditions</th>\n",
       "      <th>Dry</th>\n",
       "      <th>Flood over 3cm. deep</th>\n",
       "      <th>Frost or ice</th>\n",
       "      <th>Snow</th>\n",
       "      <th>Wet or damp</th>\n",
       "    </tr>\n",
       "    <tr>\n",
       "      <th>District Area</th>\n",
       "      <th></th>\n",
       "      <th></th>\n",
       "      <th></th>\n",
       "      <th></th>\n",
       "      <th></th>\n",
       "    </tr>\n",
       "  </thead>\n",
       "  <tbody>\n",
       "    <tr>\n",
       "      <th>Aberdeen City</th>\n",
       "      <td>815</td>\n",
       "      <td>0</td>\n",
       "      <td>25</td>\n",
       "      <td>15</td>\n",
       "      <td>468</td>\n",
       "    </tr>\n",
       "    <tr>\n",
       "      <th>Aberdeenshire</th>\n",
       "      <td>942</td>\n",
       "      <td>8</td>\n",
       "      <td>112</td>\n",
       "      <td>57</td>\n",
       "      <td>811</td>\n",
       "    </tr>\n",
       "    <tr>\n",
       "      <th>Adur</th>\n",
       "      <td>445</td>\n",
       "      <td>0</td>\n",
       "      <td>5</td>\n",
       "      <td>1</td>\n",
       "      <td>168</td>\n",
       "    </tr>\n",
       "    <tr>\n",
       "      <th>Allerdale</th>\n",
       "      <td>640</td>\n",
       "      <td>4</td>\n",
       "      <td>67</td>\n",
       "      <td>19</td>\n",
       "      <td>398</td>\n",
       "    </tr>\n",
       "    <tr>\n",
       "      <th>Alnwick</th>\n",
       "      <td>121</td>\n",
       "      <td>2</td>\n",
       "      <td>20</td>\n",
       "      <td>5</td>\n",
       "      <td>84</td>\n",
       "    </tr>\n",
       "    <tr>\n",
       "      <th>...</th>\n",
       "      <td>...</td>\n",
       "      <td>...</td>\n",
       "      <td>...</td>\n",
       "      <td>...</td>\n",
       "      <td>...</td>\n",
       "    </tr>\n",
       "    <tr>\n",
       "      <th>Wychavon</th>\n",
       "      <td>886</td>\n",
       "      <td>2</td>\n",
       "      <td>62</td>\n",
       "      <td>12</td>\n",
       "      <td>399</td>\n",
       "    </tr>\n",
       "    <tr>\n",
       "      <th>Wycombe</th>\n",
       "      <td>1179</td>\n",
       "      <td>6</td>\n",
       "      <td>54</td>\n",
       "      <td>18</td>\n",
       "      <td>472</td>\n",
       "    </tr>\n",
       "    <tr>\n",
       "      <th>Wyre</th>\n",
       "      <td>862</td>\n",
       "      <td>2</td>\n",
       "      <td>45</td>\n",
       "      <td>5</td>\n",
       "      <td>324</td>\n",
       "    </tr>\n",
       "    <tr>\n",
       "      <th>Wyre Forest</th>\n",
       "      <td>683</td>\n",
       "      <td>1</td>\n",
       "      <td>37</td>\n",
       "      <td>10</td>\n",
       "      <td>238</td>\n",
       "    </tr>\n",
       "    <tr>\n",
       "      <th>York</th>\n",
       "      <td>1325</td>\n",
       "      <td>0</td>\n",
       "      <td>42</td>\n",
       "      <td>22</td>\n",
       "      <td>508</td>\n",
       "    </tr>\n",
       "  </tbody>\n",
       "</table>\n",
       "<p>422 rows × 5 columns</p>\n",
       "</div>"
      ],
      "text/plain": [
       "Road_Surface_Conditions   Dry  Flood over 3cm. deep  Frost or ice  Snow  \\\n",
       "District Area                                                             \n",
       "Aberdeen City             815                     0            25    15   \n",
       "Aberdeenshire             942                     8           112    57   \n",
       "Adur                      445                     0             5     1   \n",
       "Allerdale                 640                     4            67    19   \n",
       "Alnwick                   121                     2            20     5   \n",
       "...                       ...                   ...           ...   ...   \n",
       "Wychavon                  886                     2            62    12   \n",
       "Wycombe                  1179                     6            54    18   \n",
       "Wyre                      862                     2            45     5   \n",
       "Wyre Forest               683                     1            37    10   \n",
       "York                     1325                     0            42    22   \n",
       "\n",
       "Road_Surface_Conditions  Wet or damp  \n",
       "District Area                         \n",
       "Aberdeen City                    468  \n",
       "Aberdeenshire                    811  \n",
       "Adur                             168  \n",
       "Allerdale                        398  \n",
       "Alnwick                           84  \n",
       "...                              ...  \n",
       "Wychavon                         399  \n",
       "Wycombe                          472  \n",
       "Wyre                             324  \n",
       "Wyre Forest                      238  \n",
       "York                             508  \n",
       "\n",
       "[422 rows x 5 columns]"
      ]
     },
     "execution_count": 37,
     "metadata": {},
     "output_type": "execute_result"
    }
   ],
   "source": [
    "DR.unstack()"
   ]
  },
  {
   "cell_type": "markdown",
   "id": "bac006f8-390c-4f60-b9dc-8229bdf7a8b8",
   "metadata": {},
   "source": [
    "<h3>Insights NO.11</h3>\n",
    "<h4>The Aberdeen City has the least and it's a snow condition with 15 incident</h4>"
   ]
  },
  {
   "cell_type": "markdown",
   "id": "394c3032-eb53-459d-80dd-cb37ba2bc555",
   "metadata": {},
   "source": [
    "<h3>Question NO.12</h3>\n",
    "<h4>Which Area has the least accident?</h4>"
   ]
  },
  {
   "cell_type": "code",
   "execution_count": 38,
   "id": "cb596966-7489-4e3a-81c7-c99aa3ffe690",
   "metadata": {},
   "outputs": [
    {
     "data": {
      "text/plain": [
       "District Area\n",
       "Birmingham            13491\n",
       "Leeds                  8898\n",
       "Manchester             6720\n",
       "Bradford               6212\n",
       "Sheffield              5710\n",
       "                      ...  \n",
       "Berwick-upon-Tweed      153\n",
       "Teesdale                142\n",
       "Shetland Islands        133\n",
       "Orkney Islands          117\n",
       "Clackmannanshire         91\n",
       "Name: count, Length: 422, dtype: int64"
      ]
     },
     "execution_count": 38,
     "metadata": {},
     "output_type": "execute_result"
    }
   ],
   "source": [
    "drive['District Area'].value_counts()"
   ]
  },
  {
   "cell_type": "code",
   "execution_count": 39,
   "id": "a0933b0b-10b3-40e1-bb3a-3f6db2b04ebc",
   "metadata": {},
   "outputs": [],
   "source": [
    "DA = drive['District Area'].value_counts()"
   ]
  },
  {
   "cell_type": "code",
   "execution_count": 40,
   "id": "53fba661-f1fd-48ff-8011-ea7a1d0a3749",
   "metadata": {},
   "outputs": [
    {
     "data": {
      "text/plain": [
       "CategoricalIndex(['Birmingham', 'Leeds', 'Manchester', 'Bradford', 'Sheffield',\n",
       "                  'Westminster', 'Liverpool', 'Glasgow City',\n",
       "                  'Bristol, City of', 'Kirklees',\n",
       "                  ...\n",
       "                  'Blaeu Gwent', 'South Shropshire',\n",
       "                  'London Airport (Heathrow)', 'Western Isles',\n",
       "                  'Clackmannshire', 'Berwick-upon-Tweed', 'Teesdale',\n",
       "                  'Shetland Islands', 'Orkney Islands', 'Clackmannanshire'],\n",
       "                 categories=['Aberdeen City', 'Aberdeenshire', 'Adur', 'Allerdale', ..., 'Wycombe', 'Wyre', 'Wyre Forest', 'York'], ordered=False, dtype='category', name='District Area', length=422)"
      ]
     },
     "execution_count": 40,
     "metadata": {},
     "output_type": "execute_result"
    }
   ],
   "source": [
    "DA.index"
   ]
  },
  {
   "cell_type": "markdown",
   "id": "3e5e2e21-ace8-4b3a-892b-34648cff87e0",
   "metadata": {},
   "source": [
    "<h3>Insights NO.12</h3>\n",
    "<h4>The Clackmannanshire has the least accident</h4>"
   ]
  },
  {
   "cell_type": "markdown",
   "id": "76882210-985f-4e1b-9323-8ba7e9570078",
   "metadata": {},
   "source": [
    "<h3>Question NO.13</h3>\n",
    "<h4>How many accidents does the Pedal cycle have been involved during the daylight? </h4>"
   ]
  },
  {
   "cell_type": "code",
   "execution_count": 41,
   "id": "c0923b86-f1c6-4f98-9d51-d88bb38d66c6",
   "metadata": {},
   "outputs": [
    {
     "name": "stderr",
     "output_type": "stream",
     "text": [
      "C:\\Users\\DELL\\AppData\\Local\\Temp\\ipykernel_10228\\2938520974.py:1: FutureWarning: The default of observed=False is deprecated and will be changed to True in a future version of pandas. Pass observed=False to retain current behavior or observed=True to adopt the future default and silence this warning.\n",
      "  car = drive.groupby(['Light_Conditions', 'Vehicle_Type']).size()\n"
     ]
    },
    {
     "data": {
      "text/plain": [
       "Light_Conditions             Vehicle_Type                        \n",
       "Darkness - lighting unknown  Agricultural vehicle                       19\n",
       "                             Bus or coach (17 or more pass seats)      267\n",
       "                             Car                                      4914\n",
       "                             Data missing or out of range                0\n",
       "                             Goods 7.5 tonnes mgw and over             185\n",
       "                                                                     ...  \n",
       "Daylight                     Other vehicle                            4132\n",
       "                             Pedal cycle                               146\n",
       "                             Ridden horse                                3\n",
       "                             Taxi/Private hire car                    9752\n",
       "                             Van / Goods 3.5 tonnes mgw or under     24944\n",
       "Length: 80, dtype: int64"
      ]
     },
     "execution_count": 41,
     "metadata": {},
     "output_type": "execute_result"
    }
   ],
   "source": [
    "car = drive.groupby(['Light_Conditions', 'Vehicle_Type']).size()\n",
    "car"
   ]
  },
  {
   "cell_type": "code",
   "execution_count": 42,
   "id": "7b1039ff-2015-4a74-9a6e-f98f1257d19a",
   "metadata": {},
   "outputs": [
    {
     "data": {
      "text/html": [
       "<div>\n",
       "<style scoped>\n",
       "    .dataframe tbody tr th:only-of-type {\n",
       "        vertical-align: middle;\n",
       "    }\n",
       "\n",
       "    .dataframe tbody tr th {\n",
       "        vertical-align: top;\n",
       "    }\n",
       "\n",
       "    .dataframe thead th {\n",
       "        text-align: right;\n",
       "    }\n",
       "</style>\n",
       "<table border=\"1\" class=\"dataframe\">\n",
       "  <thead>\n",
       "    <tr style=\"text-align: right;\">\n",
       "      <th>Vehicle_Type</th>\n",
       "      <th>Agricultural vehicle</th>\n",
       "      <th>Bus or coach (17 or more pass seats)</th>\n",
       "      <th>Car</th>\n",
       "      <th>Data missing or out of range</th>\n",
       "      <th>Goods 7.5 tonnes mgw and over</th>\n",
       "      <th>Goods over 3.5t. and under 7.5t</th>\n",
       "      <th>Minibus (8 - 16 passenger seats)</th>\n",
       "      <th>Motorcycle 125cc and under</th>\n",
       "      <th>Motorcycle 50cc and under</th>\n",
       "      <th>Motorcycle over 125cc and up to 500cc</th>\n",
       "      <th>Motorcycle over 500cc</th>\n",
       "      <th>Other vehicle</th>\n",
       "      <th>Pedal cycle</th>\n",
       "      <th>Ridden horse</th>\n",
       "      <th>Taxi/Private hire car</th>\n",
       "      <th>Van / Goods 3.5 tonnes mgw or under</th>\n",
       "    </tr>\n",
       "    <tr>\n",
       "      <th>Light_Conditions</th>\n",
       "      <th></th>\n",
       "      <th></th>\n",
       "      <th></th>\n",
       "      <th></th>\n",
       "      <th></th>\n",
       "      <th></th>\n",
       "      <th></th>\n",
       "      <th></th>\n",
       "      <th></th>\n",
       "      <th></th>\n",
       "      <th></th>\n",
       "      <th></th>\n",
       "      <th></th>\n",
       "      <th></th>\n",
       "      <th></th>\n",
       "      <th></th>\n",
       "    </tr>\n",
       "  </thead>\n",
       "  <tbody>\n",
       "    <tr>\n",
       "      <th>Darkness - lighting unknown</th>\n",
       "      <td>19</td>\n",
       "      <td>267</td>\n",
       "      <td>4914</td>\n",
       "      <td>0</td>\n",
       "      <td>185</td>\n",
       "      <td>59</td>\n",
       "      <td>20</td>\n",
       "      <td>136</td>\n",
       "      <td>68</td>\n",
       "      <td>86</td>\n",
       "      <td>228</td>\n",
       "      <td>57</td>\n",
       "      <td>2</td>\n",
       "      <td>0</td>\n",
       "      <td>131</td>\n",
       "      <td>312</td>\n",
       "    </tr>\n",
       "    <tr>\n",
       "      <th>Darkness - lights lit</th>\n",
       "      <td>365</td>\n",
       "      <td>5142</td>\n",
       "      <td>96994</td>\n",
       "      <td>1</td>\n",
       "      <td>3440</td>\n",
       "      <td>1192</td>\n",
       "      <td>347</td>\n",
       "      <td>3074</td>\n",
       "      <td>1494</td>\n",
       "      <td>1480</td>\n",
       "      <td>5176</td>\n",
       "      <td>1126</td>\n",
       "      <td>39</td>\n",
       "      <td>1</td>\n",
       "      <td>2658</td>\n",
       "      <td>6806</td>\n",
       "    </tr>\n",
       "    <tr>\n",
       "      <th>Darkness - lights unlit</th>\n",
       "      <td>7</td>\n",
       "      <td>112</td>\n",
       "      <td>1933</td>\n",
       "      <td>0</td>\n",
       "      <td>67</td>\n",
       "      <td>16</td>\n",
       "      <td>4</td>\n",
       "      <td>50</td>\n",
       "      <td>26</td>\n",
       "      <td>25</td>\n",
       "      <td>88</td>\n",
       "      <td>23</td>\n",
       "      <td>2</td>\n",
       "      <td>0</td>\n",
       "      <td>49</td>\n",
       "      <td>141</td>\n",
       "    </tr>\n",
       "    <tr>\n",
       "      <th>Darkness - no lighting</th>\n",
       "      <td>113</td>\n",
       "      <td>1427</td>\n",
       "      <td>28385</td>\n",
       "      <td>0</td>\n",
       "      <td>963</td>\n",
       "      <td>367</td>\n",
       "      <td>121</td>\n",
       "      <td>794</td>\n",
       "      <td>424</td>\n",
       "      <td>447</td>\n",
       "      <td>1428</td>\n",
       "      <td>299</td>\n",
       "      <td>8</td>\n",
       "      <td>0</td>\n",
       "      <td>704</td>\n",
       "      <td>1957</td>\n",
       "    </tr>\n",
       "    <tr>\n",
       "      <th>Daylight</th>\n",
       "      <td>1443</td>\n",
       "      <td>18930</td>\n",
       "      <td>365766</td>\n",
       "      <td>5</td>\n",
       "      <td>12652</td>\n",
       "      <td>4462</td>\n",
       "      <td>1484</td>\n",
       "      <td>11215</td>\n",
       "      <td>5591</td>\n",
       "      <td>5618</td>\n",
       "      <td>18737</td>\n",
       "      <td>4132</td>\n",
       "      <td>146</td>\n",
       "      <td>3</td>\n",
       "      <td>9752</td>\n",
       "      <td>24944</td>\n",
       "    </tr>\n",
       "  </tbody>\n",
       "</table>\n",
       "</div>"
      ],
      "text/plain": [
       "Vehicle_Type                 Agricultural vehicle  \\\n",
       "Light_Conditions                                    \n",
       "Darkness - lighting unknown                    19   \n",
       "Darkness - lights lit                         365   \n",
       "Darkness - lights unlit                         7   \n",
       "Darkness - no lighting                        113   \n",
       "Daylight                                     1443   \n",
       "\n",
       "Vehicle_Type                 Bus or coach (17 or more pass seats)     Car  \\\n",
       "Light_Conditions                                                            \n",
       "Darkness - lighting unknown                                   267    4914   \n",
       "Darkness - lights lit                                        5142   96994   \n",
       "Darkness - lights unlit                                       112    1933   \n",
       "Darkness - no lighting                                       1427   28385   \n",
       "Daylight                                                    18930  365766   \n",
       "\n",
       "Vehicle_Type                 Data missing or out of range  \\\n",
       "Light_Conditions                                            \n",
       "Darkness - lighting unknown                             0   \n",
       "Darkness - lights lit                                   1   \n",
       "Darkness - lights unlit                                 0   \n",
       "Darkness - no lighting                                  0   \n",
       "Daylight                                                5   \n",
       "\n",
       "Vehicle_Type                 Goods 7.5 tonnes mgw and over  \\\n",
       "Light_Conditions                                             \n",
       "Darkness - lighting unknown                            185   \n",
       "Darkness - lights lit                                 3440   \n",
       "Darkness - lights unlit                                 67   \n",
       "Darkness - no lighting                                 963   \n",
       "Daylight                                             12652   \n",
       "\n",
       "Vehicle_Type                 Goods over 3.5t. and under 7.5t  \\\n",
       "Light_Conditions                                               \n",
       "Darkness - lighting unknown                               59   \n",
       "Darkness - lights lit                                   1192   \n",
       "Darkness - lights unlit                                   16   \n",
       "Darkness - no lighting                                   367   \n",
       "Daylight                                                4462   \n",
       "\n",
       "Vehicle_Type                 Minibus (8 - 16 passenger seats)  \\\n",
       "Light_Conditions                                                \n",
       "Darkness - lighting unknown                                20   \n",
       "Darkness - lights lit                                     347   \n",
       "Darkness - lights unlit                                     4   \n",
       "Darkness - no lighting                                    121   \n",
       "Daylight                                                 1484   \n",
       "\n",
       "Vehicle_Type                 Motorcycle 125cc and under  \\\n",
       "Light_Conditions                                          \n",
       "Darkness - lighting unknown                         136   \n",
       "Darkness - lights lit                              3074   \n",
       "Darkness - lights unlit                              50   \n",
       "Darkness - no lighting                              794   \n",
       "Daylight                                          11215   \n",
       "\n",
       "Vehicle_Type                 Motorcycle 50cc and under  \\\n",
       "Light_Conditions                                         \n",
       "Darkness - lighting unknown                         68   \n",
       "Darkness - lights lit                             1494   \n",
       "Darkness - lights unlit                             26   \n",
       "Darkness - no lighting                             424   \n",
       "Daylight                                          5591   \n",
       "\n",
       "Vehicle_Type                 Motorcycle over 125cc and up to 500cc  \\\n",
       "Light_Conditions                                                     \n",
       "Darkness - lighting unknown                                     86   \n",
       "Darkness - lights lit                                         1480   \n",
       "Darkness - lights unlit                                         25   \n",
       "Darkness - no lighting                                         447   \n",
       "Daylight                                                      5618   \n",
       "\n",
       "Vehicle_Type                 Motorcycle over 500cc  Other vehicle  \\\n",
       "Light_Conditions                                                    \n",
       "Darkness - lighting unknown                    228             57   \n",
       "Darkness - lights lit                         5176           1126   \n",
       "Darkness - lights unlit                         88             23   \n",
       "Darkness - no lighting                        1428            299   \n",
       "Daylight                                     18737           4132   \n",
       "\n",
       "Vehicle_Type                 Pedal cycle  Ridden horse  Taxi/Private hire car  \\\n",
       "Light_Conditions                                                                \n",
       "Darkness - lighting unknown            2             0                    131   \n",
       "Darkness - lights lit                 39             1                   2658   \n",
       "Darkness - lights unlit                2             0                     49   \n",
       "Darkness - no lighting                 8             0                    704   \n",
       "Daylight                             146             3                   9752   \n",
       "\n",
       "Vehicle_Type                 Van / Goods 3.5 tonnes mgw or under  \n",
       "Light_Conditions                                                  \n",
       "Darkness - lighting unknown                                  312  \n",
       "Darkness - lights lit                                       6806  \n",
       "Darkness - lights unlit                                      141  \n",
       "Darkness - no lighting                                      1957  \n",
       "Daylight                                                   24944  "
      ]
     },
     "execution_count": 42,
     "metadata": {},
     "output_type": "execute_result"
    }
   ],
   "source": [
    "car.unstack()"
   ]
  },
  {
   "cell_type": "markdown",
   "id": "17665205-0997-438c-a043-c541225cd7e0",
   "metadata": {},
   "source": [
    "<h3>Insights NO.13</h3>\n",
    "<h4>There are 146 records that the Pedal cycle have been involved to a accident during the daylight</h4>"
   ]
  },
  {
   "cell_type": "markdown",
   "id": "b2f08a08-df89-48c2-9489-6d35babe341c",
   "metadata": {},
   "source": [
    "<h3>Question NO.14</h3>\n",
    "<h4>What kind of road type has the least accident?</h4>"
   ]
  },
  {
   "cell_type": "code",
   "execution_count": 43,
   "id": "89eb856d-d99e-4b71-87ba-56b3ad3fdf5a",
   "metadata": {},
   "outputs": [
    {
     "data": {
      "text/plain": [
       "Road_Type\n",
       "Single carriageway    496663\n",
       "Dual carriageway       99424\n",
       "Roundabout             43992\n",
       "One way street         13559\n",
       "Slip road               7041\n",
       "Name: count, dtype: int64"
      ]
     },
     "execution_count": 43,
     "metadata": {},
     "output_type": "execute_result"
    }
   ],
   "source": [
    "drive['Road_Type'].value_counts()"
   ]
  },
  {
   "cell_type": "markdown",
   "id": "92f44075-ce94-4598-8709-2f77c2457447",
   "metadata": {},
   "source": [
    "<h3>Insights NO.14</h3>\n",
    "<h4>The slip road has the least accident</h4>"
   ]
  },
  {
   "cell_type": "markdown",
   "id": "55dfa82d-0e2c-4bce-98ed-4c278f5a7885",
   "metadata": {},
   "source": [
    "<h3>Question NO.15</h3>\n",
    "<h4>How many car have an accident during the darkness and lighting unknown?</h4>"
   ]
  },
  {
   "cell_type": "code",
   "execution_count": 44,
   "id": "ee746387-0298-4484-aec3-8812d9262c77",
   "metadata": {},
   "outputs": [
    {
     "name": "stderr",
     "output_type": "stream",
     "text": [
      "C:\\Users\\DELL\\AppData\\Local\\Temp\\ipykernel_10228\\849341115.py:1: FutureWarning: The default of observed=False is deprecated and will be changed to True in a future version of pandas. Pass observed=False to retain current behavior or observed=True to adopt the future default and silence this warning.\n",
      "  car =drive.groupby(['Light_Conditions', 'Vehicle_Type']).size()\n"
     ]
    },
    {
     "data": {
      "text/html": [
       "<div>\n",
       "<style scoped>\n",
       "    .dataframe tbody tr th:only-of-type {\n",
       "        vertical-align: middle;\n",
       "    }\n",
       "\n",
       "    .dataframe tbody tr th {\n",
       "        vertical-align: top;\n",
       "    }\n",
       "\n",
       "    .dataframe thead th {\n",
       "        text-align: right;\n",
       "    }\n",
       "</style>\n",
       "<table border=\"1\" class=\"dataframe\">\n",
       "  <thead>\n",
       "    <tr style=\"text-align: right;\">\n",
       "      <th>Vehicle_Type</th>\n",
       "      <th>Agricultural vehicle</th>\n",
       "      <th>Bus or coach (17 or more pass seats)</th>\n",
       "      <th>Car</th>\n",
       "      <th>Data missing or out of range</th>\n",
       "      <th>Goods 7.5 tonnes mgw and over</th>\n",
       "      <th>Goods over 3.5t. and under 7.5t</th>\n",
       "      <th>Minibus (8 - 16 passenger seats)</th>\n",
       "      <th>Motorcycle 125cc and under</th>\n",
       "      <th>Motorcycle 50cc and under</th>\n",
       "      <th>Motorcycle over 125cc and up to 500cc</th>\n",
       "      <th>Motorcycle over 500cc</th>\n",
       "      <th>Other vehicle</th>\n",
       "      <th>Pedal cycle</th>\n",
       "      <th>Ridden horse</th>\n",
       "      <th>Taxi/Private hire car</th>\n",
       "      <th>Van / Goods 3.5 tonnes mgw or under</th>\n",
       "    </tr>\n",
       "    <tr>\n",
       "      <th>Light_Conditions</th>\n",
       "      <th></th>\n",
       "      <th></th>\n",
       "      <th></th>\n",
       "      <th></th>\n",
       "      <th></th>\n",
       "      <th></th>\n",
       "      <th></th>\n",
       "      <th></th>\n",
       "      <th></th>\n",
       "      <th></th>\n",
       "      <th></th>\n",
       "      <th></th>\n",
       "      <th></th>\n",
       "      <th></th>\n",
       "      <th></th>\n",
       "      <th></th>\n",
       "    </tr>\n",
       "  </thead>\n",
       "  <tbody>\n",
       "    <tr>\n",
       "      <th>Darkness - lighting unknown</th>\n",
       "      <td>19</td>\n",
       "      <td>267</td>\n",
       "      <td>4914</td>\n",
       "      <td>0</td>\n",
       "      <td>185</td>\n",
       "      <td>59</td>\n",
       "      <td>20</td>\n",
       "      <td>136</td>\n",
       "      <td>68</td>\n",
       "      <td>86</td>\n",
       "      <td>228</td>\n",
       "      <td>57</td>\n",
       "      <td>2</td>\n",
       "      <td>0</td>\n",
       "      <td>131</td>\n",
       "      <td>312</td>\n",
       "    </tr>\n",
       "    <tr>\n",
       "      <th>Darkness - lights lit</th>\n",
       "      <td>365</td>\n",
       "      <td>5142</td>\n",
       "      <td>96994</td>\n",
       "      <td>1</td>\n",
       "      <td>3440</td>\n",
       "      <td>1192</td>\n",
       "      <td>347</td>\n",
       "      <td>3074</td>\n",
       "      <td>1494</td>\n",
       "      <td>1480</td>\n",
       "      <td>5176</td>\n",
       "      <td>1126</td>\n",
       "      <td>39</td>\n",
       "      <td>1</td>\n",
       "      <td>2658</td>\n",
       "      <td>6806</td>\n",
       "    </tr>\n",
       "    <tr>\n",
       "      <th>Darkness - lights unlit</th>\n",
       "      <td>7</td>\n",
       "      <td>112</td>\n",
       "      <td>1933</td>\n",
       "      <td>0</td>\n",
       "      <td>67</td>\n",
       "      <td>16</td>\n",
       "      <td>4</td>\n",
       "      <td>50</td>\n",
       "      <td>26</td>\n",
       "      <td>25</td>\n",
       "      <td>88</td>\n",
       "      <td>23</td>\n",
       "      <td>2</td>\n",
       "      <td>0</td>\n",
       "      <td>49</td>\n",
       "      <td>141</td>\n",
       "    </tr>\n",
       "    <tr>\n",
       "      <th>Darkness - no lighting</th>\n",
       "      <td>113</td>\n",
       "      <td>1427</td>\n",
       "      <td>28385</td>\n",
       "      <td>0</td>\n",
       "      <td>963</td>\n",
       "      <td>367</td>\n",
       "      <td>121</td>\n",
       "      <td>794</td>\n",
       "      <td>424</td>\n",
       "      <td>447</td>\n",
       "      <td>1428</td>\n",
       "      <td>299</td>\n",
       "      <td>8</td>\n",
       "      <td>0</td>\n",
       "      <td>704</td>\n",
       "      <td>1957</td>\n",
       "    </tr>\n",
       "    <tr>\n",
       "      <th>Daylight</th>\n",
       "      <td>1443</td>\n",
       "      <td>18930</td>\n",
       "      <td>365766</td>\n",
       "      <td>5</td>\n",
       "      <td>12652</td>\n",
       "      <td>4462</td>\n",
       "      <td>1484</td>\n",
       "      <td>11215</td>\n",
       "      <td>5591</td>\n",
       "      <td>5618</td>\n",
       "      <td>18737</td>\n",
       "      <td>4132</td>\n",
       "      <td>146</td>\n",
       "      <td>3</td>\n",
       "      <td>9752</td>\n",
       "      <td>24944</td>\n",
       "    </tr>\n",
       "  </tbody>\n",
       "</table>\n",
       "</div>"
      ],
      "text/plain": [
       "Vehicle_Type                 Agricultural vehicle  \\\n",
       "Light_Conditions                                    \n",
       "Darkness - lighting unknown                    19   \n",
       "Darkness - lights lit                         365   \n",
       "Darkness - lights unlit                         7   \n",
       "Darkness - no lighting                        113   \n",
       "Daylight                                     1443   \n",
       "\n",
       "Vehicle_Type                 Bus or coach (17 or more pass seats)     Car  \\\n",
       "Light_Conditions                                                            \n",
       "Darkness - lighting unknown                                   267    4914   \n",
       "Darkness - lights lit                                        5142   96994   \n",
       "Darkness - lights unlit                                       112    1933   \n",
       "Darkness - no lighting                                       1427   28385   \n",
       "Daylight                                                    18930  365766   \n",
       "\n",
       "Vehicle_Type                 Data missing or out of range  \\\n",
       "Light_Conditions                                            \n",
       "Darkness - lighting unknown                             0   \n",
       "Darkness - lights lit                                   1   \n",
       "Darkness - lights unlit                                 0   \n",
       "Darkness - no lighting                                  0   \n",
       "Daylight                                                5   \n",
       "\n",
       "Vehicle_Type                 Goods 7.5 tonnes mgw and over  \\\n",
       "Light_Conditions                                             \n",
       "Darkness - lighting unknown                            185   \n",
       "Darkness - lights lit                                 3440   \n",
       "Darkness - lights unlit                                 67   \n",
       "Darkness - no lighting                                 963   \n",
       "Daylight                                             12652   \n",
       "\n",
       "Vehicle_Type                 Goods over 3.5t. and under 7.5t  \\\n",
       "Light_Conditions                                               \n",
       "Darkness - lighting unknown                               59   \n",
       "Darkness - lights lit                                   1192   \n",
       "Darkness - lights unlit                                   16   \n",
       "Darkness - no lighting                                   367   \n",
       "Daylight                                                4462   \n",
       "\n",
       "Vehicle_Type                 Minibus (8 - 16 passenger seats)  \\\n",
       "Light_Conditions                                                \n",
       "Darkness - lighting unknown                                20   \n",
       "Darkness - lights lit                                     347   \n",
       "Darkness - lights unlit                                     4   \n",
       "Darkness - no lighting                                    121   \n",
       "Daylight                                                 1484   \n",
       "\n",
       "Vehicle_Type                 Motorcycle 125cc and under  \\\n",
       "Light_Conditions                                          \n",
       "Darkness - lighting unknown                         136   \n",
       "Darkness - lights lit                              3074   \n",
       "Darkness - lights unlit                              50   \n",
       "Darkness - no lighting                              794   \n",
       "Daylight                                          11215   \n",
       "\n",
       "Vehicle_Type                 Motorcycle 50cc and under  \\\n",
       "Light_Conditions                                         \n",
       "Darkness - lighting unknown                         68   \n",
       "Darkness - lights lit                             1494   \n",
       "Darkness - lights unlit                             26   \n",
       "Darkness - no lighting                             424   \n",
       "Daylight                                          5591   \n",
       "\n",
       "Vehicle_Type                 Motorcycle over 125cc and up to 500cc  \\\n",
       "Light_Conditions                                                     \n",
       "Darkness - lighting unknown                                     86   \n",
       "Darkness - lights lit                                         1480   \n",
       "Darkness - lights unlit                                         25   \n",
       "Darkness - no lighting                                         447   \n",
       "Daylight                                                      5618   \n",
       "\n",
       "Vehicle_Type                 Motorcycle over 500cc  Other vehicle  \\\n",
       "Light_Conditions                                                    \n",
       "Darkness - lighting unknown                    228             57   \n",
       "Darkness - lights lit                         5176           1126   \n",
       "Darkness - lights unlit                         88             23   \n",
       "Darkness - no lighting                        1428            299   \n",
       "Daylight                                     18737           4132   \n",
       "\n",
       "Vehicle_Type                 Pedal cycle  Ridden horse  Taxi/Private hire car  \\\n",
       "Light_Conditions                                                                \n",
       "Darkness - lighting unknown            2             0                    131   \n",
       "Darkness - lights lit                 39             1                   2658   \n",
       "Darkness - lights unlit                2             0                     49   \n",
       "Darkness - no lighting                 8             0                    704   \n",
       "Daylight                             146             3                   9752   \n",
       "\n",
       "Vehicle_Type                 Van / Goods 3.5 tonnes mgw or under  \n",
       "Light_Conditions                                                  \n",
       "Darkness - lighting unknown                                  312  \n",
       "Darkness - lights lit                                       6806  \n",
       "Darkness - lights unlit                                      141  \n",
       "Darkness - no lighting                                      1957  \n",
       "Daylight                                                   24944  "
      ]
     },
     "execution_count": 44,
     "metadata": {},
     "output_type": "execute_result"
    }
   ],
   "source": [
    "car =drive.groupby(['Light_Conditions', 'Vehicle_Type']).size()\n",
    "car.unstack()"
   ]
  },
  {
   "cell_type": "markdown",
   "id": "d1158c39-0467-4b29-b9fd-3e2038ffd2f9",
   "metadata": {},
   "source": [
    "<h3>Insights NO.15</h3>\n",
    "<h4>There are 4914 cars that have been into accident during the darkness and lighting unknown</h4>"
   ]
  },
  {
   "cell_type": "markdown",
   "id": "57504177-708b-41b8-ace4-025ece0e84e6",
   "metadata": {},
   "source": [
    "<h3>Question NO.16</h3>\n",
    "<h4>What kind of light condition has the least accident record?</h4>"
   ]
  },
  {
   "cell_type": "code",
   "execution_count": 45,
   "id": "68ad44ad-64a6-4b40-b669-e011668aed73",
   "metadata": {},
   "outputs": [
    {
     "data": {
      "text/plain": [
       "Light_Conditions\n",
       "Daylight                       484880\n",
       "Darkness - lights lit          129335\n",
       "Darkness - no lighting          37437\n",
       "Darkness - lighting unknown      6484\n",
       "Darkness - lights unlit          2543\n",
       "Name: count, dtype: int64"
      ]
     },
     "execution_count": 45,
     "metadata": {},
     "output_type": "execute_result"
    }
   ],
   "source": [
    "drive['Light_Conditions'].value_counts()"
   ]
  },
  {
   "cell_type": "markdown",
   "id": "8da0c083-6ea6-47c6-afaf-485ef546ed71",
   "metadata": {},
   "source": [
    "<h3>Insights NO.16</h3>\n",
    "<h4>Darkness - lights unlit has the least Light condition record of accidents</h4>"
   ]
  },
  {
   "cell_type": "markdown",
   "id": "c0b20ae0-ba5d-4a6a-94f2-56235f11d64e",
   "metadata": {},
   "source": [
    "<h3>Question NO.17</h3>\n",
    "<h4>What kind of road type has the least most record during darkness lights unlit?</h4>"
   ]
  },
  {
   "cell_type": "code",
   "execution_count": 46,
   "id": "38ca0eb8-fc44-4da6-b1a8-9c9badfddac3",
   "metadata": {},
   "outputs": [
    {
     "name": "stderr",
     "output_type": "stream",
     "text": [
      "C:\\Users\\DELL\\AppData\\Local\\Temp\\ipykernel_10228\\1997914620.py:1: FutureWarning: The default of observed=False is deprecated and will be changed to True in a future version of pandas. Pass observed=False to retain current behavior or observed=True to adopt the future default and silence this warning.\n",
      "  light = drive.groupby(['Light_Conditions', 'Road_Type']).size()\n"
     ]
    },
    {
     "data": {
      "text/plain": [
       "Light_Conditions             Road_Type         \n",
       "Darkness - lighting unknown  Dual carriageway         905\n",
       "                             One way street           124\n",
       "                             Roundabout               470\n",
       "                             Single carriageway      4899\n",
       "                             Slip road                 86\n",
       "Darkness - lights lit        Dual carriageway       20242\n",
       "                             One way street          3310\n",
       "                             Roundabout             10528\n",
       "                             Single carriageway     93940\n",
       "                             Slip road               1315\n",
       "Darkness - lights unlit      Dual carriageway         465\n",
       "                             One way street            58\n",
       "                             Roundabout               189\n",
       "                             Single carriageway      1797\n",
       "                             Slip road                 34\n",
       "Darkness - no lighting       Dual carriageway        7460\n",
       "                             One way street           103\n",
       "                             Roundabout               224\n",
       "                             Single carriageway     29293\n",
       "                             Slip road                357\n",
       "Daylight                     Dual carriageway       70352\n",
       "                             One way street          9964\n",
       "                             Roundabout             32581\n",
       "                             Single carriageway    366734\n",
       "                             Slip road               5249\n",
       "dtype: int64"
      ]
     },
     "execution_count": 46,
     "metadata": {},
     "output_type": "execute_result"
    }
   ],
   "source": [
    "light = drive.groupby(['Light_Conditions', 'Road_Type']).size()\n",
    "light"
   ]
  },
  {
   "cell_type": "code",
   "execution_count": 47,
   "id": "baf38924-85df-4c10-8ef5-76602cdb1894",
   "metadata": {},
   "outputs": [
    {
     "data": {
      "text/html": [
       "<div>\n",
       "<style scoped>\n",
       "    .dataframe tbody tr th:only-of-type {\n",
       "        vertical-align: middle;\n",
       "    }\n",
       "\n",
       "    .dataframe tbody tr th {\n",
       "        vertical-align: top;\n",
       "    }\n",
       "\n",
       "    .dataframe thead th {\n",
       "        text-align: right;\n",
       "    }\n",
       "</style>\n",
       "<table border=\"1\" class=\"dataframe\">\n",
       "  <thead>\n",
       "    <tr style=\"text-align: right;\">\n",
       "      <th>Road_Type</th>\n",
       "      <th>Dual carriageway</th>\n",
       "      <th>One way street</th>\n",
       "      <th>Roundabout</th>\n",
       "      <th>Single carriageway</th>\n",
       "      <th>Slip road</th>\n",
       "    </tr>\n",
       "    <tr>\n",
       "      <th>Light_Conditions</th>\n",
       "      <th></th>\n",
       "      <th></th>\n",
       "      <th></th>\n",
       "      <th></th>\n",
       "      <th></th>\n",
       "    </tr>\n",
       "  </thead>\n",
       "  <tbody>\n",
       "    <tr>\n",
       "      <th>Darkness - lighting unknown</th>\n",
       "      <td>905</td>\n",
       "      <td>124</td>\n",
       "      <td>470</td>\n",
       "      <td>4899</td>\n",
       "      <td>86</td>\n",
       "    </tr>\n",
       "    <tr>\n",
       "      <th>Darkness - lights lit</th>\n",
       "      <td>20242</td>\n",
       "      <td>3310</td>\n",
       "      <td>10528</td>\n",
       "      <td>93940</td>\n",
       "      <td>1315</td>\n",
       "    </tr>\n",
       "    <tr>\n",
       "      <th>Darkness - lights unlit</th>\n",
       "      <td>465</td>\n",
       "      <td>58</td>\n",
       "      <td>189</td>\n",
       "      <td>1797</td>\n",
       "      <td>34</td>\n",
       "    </tr>\n",
       "    <tr>\n",
       "      <th>Darkness - no lighting</th>\n",
       "      <td>7460</td>\n",
       "      <td>103</td>\n",
       "      <td>224</td>\n",
       "      <td>29293</td>\n",
       "      <td>357</td>\n",
       "    </tr>\n",
       "    <tr>\n",
       "      <th>Daylight</th>\n",
       "      <td>70352</td>\n",
       "      <td>9964</td>\n",
       "      <td>32581</td>\n",
       "      <td>366734</td>\n",
       "      <td>5249</td>\n",
       "    </tr>\n",
       "  </tbody>\n",
       "</table>\n",
       "</div>"
      ],
      "text/plain": [
       "Road_Type                    Dual carriageway  One way street  Roundabout  \\\n",
       "Light_Conditions                                                            \n",
       "Darkness - lighting unknown               905             124         470   \n",
       "Darkness - lights lit                   20242            3310       10528   \n",
       "Darkness - lights unlit                   465              58         189   \n",
       "Darkness - no lighting                   7460             103         224   \n",
       "Daylight                                70352            9964       32581   \n",
       "\n",
       "Road_Type                    Single carriageway  Slip road  \n",
       "Light_Conditions                                            \n",
       "Darkness - lighting unknown                4899         86  \n",
       "Darkness - lights lit                     93940       1315  \n",
       "Darkness - lights unlit                    1797         34  \n",
       "Darkness - no lighting                    29293        357  \n",
       "Daylight                                 366734       5249  "
      ]
     },
     "execution_count": 47,
     "metadata": {},
     "output_type": "execute_result"
    }
   ],
   "source": [
    "light.unstack()"
   ]
  },
  {
   "cell_type": "markdown",
   "id": "14c782ed-889d-431a-ab6e-b27c07d02bed",
   "metadata": {},
   "source": [
    "<h3>Insights NO.17</h3>\n",
    "<h4>The Single carriageway has the most record of accident during the Darkness lights unlit </h4>"
   ]
  },
  {
   "cell_type": "markdown",
   "id": "2f1e3919-6c86-43b5-a74a-3867344a635d",
   "metadata": {},
   "source": [
    "<h3>Question NO.18</h3>\n",
    "<h3>What latitude has the most record?</h3>"
   ]
  },
  {
   "cell_type": "code",
   "execution_count": 48,
   "id": "b39982ee-9b9e-4caa-9f82-38e0e79aeed3",
   "metadata": {},
   "outputs": [
    {
     "data": {
      "text/plain": [
       "0    52.458798\n",
       "Name: Latitude, dtype: float64"
      ]
     },
     "execution_count": 48,
     "metadata": {},
     "output_type": "execute_result"
    }
   ],
   "source": [
    "drive['Latitude'].mode()"
   ]
  },
  {
   "cell_type": "markdown",
   "id": "211fba01-adac-428c-94b2-b4a5d499d57f",
   "metadata": {},
   "source": [
    "<h3>Insights NO.18</h3>\n",
    "<h4>Latitude 52.458798 has the most record</h4>"
   ]
  },
  {
   "cell_type": "markdown",
   "id": "1657c221-3499-4496-9377-17d9fed8e135",
   "metadata": {},
   "source": [
    "<h3>Question NO.19</h3>\n",
    "<h4>In a serious road accident what light condition has the most accident?</h4>"
   ]
  },
  {
   "cell_type": "code",
   "execution_count": 49,
   "id": "1f4291dc-ac3f-49cb-9964-31040af09ba5",
   "metadata": {},
   "outputs": [
    {
     "name": "stderr",
     "output_type": "stream",
     "text": [
      "C:\\Users\\DELL\\AppData\\Local\\Temp\\ipykernel_10228\\197871541.py:1: FutureWarning: The default of observed=False is deprecated and will be changed to True in a future version of pandas. Pass observed=False to retain current behavior or observed=True to adopt the future default and silence this warning.\n",
      "  acl = drive.groupby(['Accident_Severity', 'Light_Conditions']).size()\n"
     ]
    },
    {
     "data": {
      "text/plain": [
       "Accident_Severity  Light_Conditions           \n",
       "Fatal              Darkness - lighting unknown        68\n",
       "                   Darkness - lights lit            1860\n",
       "                   Darkness - lights unlit            45\n",
       "                   Darkness - no lighting           1612\n",
       "                   Daylight                         5076\n",
       "Serious            Darkness - lighting unknown       794\n",
       "                   Darkness - lights lit           19130\n",
       "                   Darkness - lights unlit           360\n",
       "                   Darkness - no lighting           7174\n",
       "                   Daylight                        60759\n",
       "Slight             Darkness - lighting unknown      5622\n",
       "                   Darkness - lights lit          108345\n",
       "                   Darkness - lights unlit          2138\n",
       "                   Darkness - no lighting          28651\n",
       "                   Daylight                       419045\n",
       "dtype: int64"
      ]
     },
     "execution_count": 49,
     "metadata": {},
     "output_type": "execute_result"
    }
   ],
   "source": [
    "acl = drive.groupby(['Accident_Severity', 'Light_Conditions']).size()\n",
    "acl"
   ]
  },
  {
   "cell_type": "code",
   "execution_count": 50,
   "id": "c1766f45-3320-41c4-b4e6-6163e592fa94",
   "metadata": {},
   "outputs": [
    {
     "data": {
      "text/html": [
       "<div>\n",
       "<style scoped>\n",
       "    .dataframe tbody tr th:only-of-type {\n",
       "        vertical-align: middle;\n",
       "    }\n",
       "\n",
       "    .dataframe tbody tr th {\n",
       "        vertical-align: top;\n",
       "    }\n",
       "\n",
       "    .dataframe thead th {\n",
       "        text-align: right;\n",
       "    }\n",
       "</style>\n",
       "<table border=\"1\" class=\"dataframe\">\n",
       "  <thead>\n",
       "    <tr style=\"text-align: right;\">\n",
       "      <th>Light_Conditions</th>\n",
       "      <th>Darkness - lighting unknown</th>\n",
       "      <th>Darkness - lights lit</th>\n",
       "      <th>Darkness - lights unlit</th>\n",
       "      <th>Darkness - no lighting</th>\n",
       "      <th>Daylight</th>\n",
       "    </tr>\n",
       "    <tr>\n",
       "      <th>Accident_Severity</th>\n",
       "      <th></th>\n",
       "      <th></th>\n",
       "      <th></th>\n",
       "      <th></th>\n",
       "      <th></th>\n",
       "    </tr>\n",
       "  </thead>\n",
       "  <tbody>\n",
       "    <tr>\n",
       "      <th>Fatal</th>\n",
       "      <td>68</td>\n",
       "      <td>1860</td>\n",
       "      <td>45</td>\n",
       "      <td>1612</td>\n",
       "      <td>5076</td>\n",
       "    </tr>\n",
       "    <tr>\n",
       "      <th>Serious</th>\n",
       "      <td>794</td>\n",
       "      <td>19130</td>\n",
       "      <td>360</td>\n",
       "      <td>7174</td>\n",
       "      <td>60759</td>\n",
       "    </tr>\n",
       "    <tr>\n",
       "      <th>Slight</th>\n",
       "      <td>5622</td>\n",
       "      <td>108345</td>\n",
       "      <td>2138</td>\n",
       "      <td>28651</td>\n",
       "      <td>419045</td>\n",
       "    </tr>\n",
       "  </tbody>\n",
       "</table>\n",
       "</div>"
      ],
      "text/plain": [
       "Light_Conditions   Darkness - lighting unknown  Darkness - lights lit  \\\n",
       "Accident_Severity                                                       \n",
       "Fatal                                       68                   1860   \n",
       "Serious                                    794                  19130   \n",
       "Slight                                    5622                 108345   \n",
       "\n",
       "Light_Conditions   Darkness - lights unlit  Darkness - no lighting  Daylight  \n",
       "Accident_Severity                                                             \n",
       "Fatal                                   45                    1612      5076  \n",
       "Serious                                360                    7174     60759  \n",
       "Slight                                2138                   28651    419045  "
      ]
     },
     "execution_count": 50,
     "metadata": {},
     "output_type": "execute_result"
    }
   ],
   "source": [
    "acl.unstack()"
   ]
  },
  {
   "cell_type": "markdown",
   "id": "9361556f-4c70-4af6-973e-3c1379c57c8c",
   "metadata": {},
   "source": [
    "<h3>Insights NO.19</h3>\n",
    "<h4>According to the data Daylight  has the most record with 60759 of having a serious accident</h4>"
   ]
  },
  {
   "cell_type": "markdown",
   "id": "43f37b88-0ba5-41c9-95f8-a656db8207ba",
   "metadata": {},
   "source": [
    "<h3>Question NO.20</h3>\n",
    "<h4>What date has the most accident that happend?</h4>"
   ]
  },
  {
   "cell_type": "code",
   "execution_count": 51,
   "id": "cdaeea80-9b2f-48ee-a2b8-ee33c36381f1",
   "metadata": {},
   "outputs": [
    {
     "data": {
      "text/plain": [
       "0   2019-11-30\n",
       "Name: Accident Date, dtype: datetime64[ns]"
      ]
     },
     "execution_count": 51,
     "metadata": {},
     "output_type": "execute_result"
    }
   ],
   "source": [
    "drive['Accident Date'].mode()"
   ]
  },
  {
   "cell_type": "markdown",
   "id": "56830573-0908-4e5f-a62b-b2a3c6da48e3",
   "metadata": {},
   "source": [
    "<h3>Insights NO.20</h3>\n",
    "<h4>According to data records 30-11-2019 has the most accident that happend</h4>"
   ]
  },
  {
   "cell_type": "markdown",
   "id": "a91f27a1-f905-4d2f-bd40-d55154acc75f",
   "metadata": {},
   "source": [
    "<h3>Question NO.21</h3>\n",
    "<H4>How many road accidents happend on the year 2020?</H4>"
   ]
  },
  {
   "cell_type": "code",
   "execution_count": 52,
   "id": "521ce481-699c-444f-979a-fa221d132225",
   "metadata": {},
   "outputs": [
    {
     "data": {
      "text/plain": [
       "np.int64(170591)"
      ]
     },
     "execution_count": 52,
     "metadata": {},
     "output_type": "execute_result"
    }
   ],
   "source": [
    "drive [drive['Year'] == 2020].value_counts().sum()"
   ]
  },
  {
   "cell_type": "code",
   "execution_count": 53,
   "id": "36ca4679-cf3e-4960-8228-6966afe679a8",
   "metadata": {},
   "outputs": [
    {
     "data": {
      "image/png": "[encoded data removed]",
      "text/plain": [
       "<Figure size 1000x500 with 1 Axes>"
      ]
     },
     "metadata": {},
     "output_type": "display_data"
    }
   ],
   "source": [
    "yearly_data = drive.groupby(['Year','Month']).size()\n",
    "yearly_data = yearly_data.unstack(level=0)\n",
    "\n",
    "yearly_data.plot(\n",
    "    marker= 'o',\n",
    "    figsize= (10,5),\n",
    "    title = 'Monthly Accidents by Year(2019 - 2022)'\n",
    ")\n",
    "\n",
    "plt.xticks(range(1,13), ['JAN','FEB','MAR','APR','MAY','JUN','JUL','AUG','SEP','OCT','NOV','DEC'])\n",
    "# plt.bbox_to_achor\n",
    "plt.grid(alpha=0.3)\n",
    "plt.show()"
   ]
  },
  {
   "cell_type": "markdown",
   "id": "7cf2a055-c9dd-4742-adee-d24da7178e21",
   "metadata": {},
   "source": [
    "<h3>Insights NO.21</h3>\n",
    "<h4>In the record of the accidents at year 2020 there are 170591 records of road accidents that happend.</h4>"
   ]
  },
  {
   "cell_type": "markdown",
   "id": "07845765-e2d7-4737-b325-57cf73b8c630",
   "metadata": {},
   "source": [
    "<h3>Question NO.22</h3>\n",
    "<h3>At the year 2020 what kind of weather is prone to road accidents?</h3>"
   ]
  },
  {
   "cell_type": "code",
   "execution_count": 56,
   "id": "a96a669d-c0f1-464b-a9f2-45f63717336a",
   "metadata": {},
   "outputs": [],
   "source": [
    "year_2022 = drive [drive['Year'] == 2022]"
   ]
  },
  {
   "cell_type": "code",
   "execution_count": 57,
   "id": "886466de-2ce1-4fa7-a9ed-1c04083cb8f1",
   "metadata": {},
   "outputs": [
    {
     "name": "stdout",
     "output_type": "stream",
     "text": [
      "total number of accident in year 2022 is 144419\n"
     ]
    },
    {
     "data": {
      "text/plain": [
       "Weather_Conditions\n",
       "Fine no high winds       118624\n",
       "Raining no high winds     15195\n",
       "Other                      4300\n",
       "Snowing no high winds      2923\n",
       "Raining + high winds       1140\n",
       "Fine + high winds          1051\n",
       "Fog or mist                 902\n",
       "Snowing + high winds        284\n",
       "Name: count, dtype: int64"
      ]
     },
     "execution_count": 57,
     "metadata": {},
     "output_type": "execute_result"
    }
   ],
   "source": [
    "print(f\"total number of accident in year 2022 is {year_2022['Weather_Conditions'].value_counts().sum()}\")\n",
    "year_2022[\"Weather_Conditions\"].value_counts()\n"
   ]
  },
  {
   "cell_type": "markdown",
   "id": "6f49ad2d-95a3-43d5-968a-aa201a052835",
   "metadata": {},
   "source": [
    "<h3>Insights NO.22</h3>\n",
    "<h4>In the beliefs of the people if you ask them about what mostly is the weather that is prone to an accident they will say on a rainy day or rainy season, but the data shows that Fine no high winds  have the most accidents that happend with 118624 number of accidents with 82.14% total </h4>"
   ]
  },
  {
   "cell_type": "markdown",
   "id": "85119688-c12a-4647-9c01-52ad2711439d",
   "metadata": {},
   "source": [
    "<h3>Question NO.23</h3>\n",
    "<h4>During the Darkness with no lights and Darkness with lights how many vehicle got into an accident at the year 2021 in a rainy day but no high winds?</h4>"
   ]
  },
  {
   "cell_type": "code",
   "execution_count": null,
   "id": "9e54833a-5755-4d33-a92d-51df058f3421",
   "metadata": {},
   "outputs": [],
   "source": [
    "year_2021 = drive[drive['Year'] == 2021]"
   ]
  },
  {
   "cell_type": "code",
   "execution_count": null,
   "id": "8b68d5c1-c8c0-4fca-8cf0-391d49a5973d",
   "metadata": {},
   "outputs": [],
   "source": [
    "idea = year_2021.groupby(['Weather_Conditions','Light_Conditions'])['Number_of_Vehicles'].count()"
   ]
  },
  {
   "cell_type": "code",
   "execution_count": null,
   "id": "fcce5d84-a0d0-41a2-8e9b-79dd032ae7bf",
   "metadata": {},
   "outputs": [],
   "source": [
    "no1 = year_2021[year_2021['Weather_Conditions'] == 'Raining no high winds']"
   ]
  },
  {
   "cell_type": "code",
   "execution_count": null,
   "id": "0c4ec907-d018-4531-a236-b286457199dc",
   "metadata": {},
   "outputs": [],
   "source": [
    "no2 = no1.groupby(['Light_Conditions','Urban_or_Rural_Area'])['Number_of_Vehicles'].size()"
   ]
  },
  {
   "cell_type": "code",
   "execution_count": null,
   "id": "e39043f3-176e-4f8b-9f62-09465408cfd5",
   "metadata": {},
   "outputs": [],
   "source": [
    "no2.unstack()"
   ]
  },
  {
   "cell_type": "markdown",
   "id": "19f18127-df79-49bd-9c49-5e76588b5dc3",
   "metadata": {},
   "source": [
    "<h3>Insights NO.23</h3>\n",
    "<h4>With the result above during the night with no light and a rainy days but no high winds there are 1507 accidents in the Rural Area and 87 accidents at the Urban Area.</h4>\n",
    "\n",
    "<h3>Insights NO.24</h3>\n",
    "<h4>During the night there are some lights at the road but still there are accidents that happens, according to the result above there are 43 accidents that happend at the Rural Area and 73 accidents at the Urban Area</h4>\n",
    "\n",
    "<h3>Insights NO.25</h3>\n",
    "<h4>With the result above we can say with the light condition Darkness - no lighting during rainy days but no high winds Rural has more accident than Urban Area, but in the Darkness - lights unlit during rainy days but no high winds Urban Area has more accidents that the Rural Area </h4>"
   ]
  },
  {
   "cell_type": "markdown",
   "id": "54217f05-5896-442f-97b3-d33f10996455",
   "metadata": {},
   "source": [
    "<h3>Question 24</h3>\n",
    "<h4>What year has the most accidents that happend?</h4>"
   ]
  },
  {
   "cell_type": "code",
   "execution_count": 58,
   "id": "88246580-31d7-4886-ae3d-063c9b6d4c19",
   "metadata": {},
   "outputs": [
    {
     "data": {
      "text/plain": [
       "np.int64(660679)"
      ]
     },
     "execution_count": 58,
     "metadata": {},
     "output_type": "execute_result"
    }
   ],
   "source": [
    "drive.value_counts().sum()"
   ]
  },
  {
   "cell_type": "code",
   "execution_count": 61,
   "id": "3703e396-32d1-4d8f-aebe-343930f4d572",
   "metadata": {},
   "outputs": [
    {
     "data": {
      "text/plain": [
       "Year\n",
       "2019    182115\n",
       "2020    170591\n",
       "2021    163554\n",
       "2022    144419\n",
       "Name: count, dtype: int64"
      ]
     },
     "execution_count": 61,
     "metadata": {},
     "output_type": "execute_result"
    }
   ],
   "source": [
    "drive['Year'].value_counts()\n"
   ]
  },
  {
   "cell_type": "code",
   "execution_count": 62,
   "id": "dd1c5c87-8faa-4f9d-97fc-5061e1084f30",
   "metadata": {},
   "outputs": [
    {
     "data": {
      "image/png": "[encoded data removed]",
      "text/plain": [
       "<Figure size 640x480 with 1 Axes>"
      ]
     },
     "metadata": {},
     "output_type": "display_data"
    }
   ],
   "source": [
    "drive['Year'].value_counts().plot(kind = 'bar')\n",
    "plt.show()\n"
   ]
  },
  {
   "cell_type": "code",
   "execution_count": 65,
   "id": "0e06ecfe-dc33-4f30-8634-a745ec8a02e9",
   "metadata": {},
   "outputs": [],
   "source": [
    "yer = drive['Year'].value_counts()"
   ]
  },
  {
   "cell_type": "code",
   "execution_count": 66,
   "id": "d16b496c-6203-4ada-96f8-a4e260f46163",
   "metadata": {},
   "outputs": [
    {
     "data": {
      "text/plain": [
       "Index([2019, 2020, 2021, 2022], dtype='int32', name='Year')"
      ]
     },
     "execution_count": 66,
     "metadata": {},
     "output_type": "execute_result"
    }
   ],
   "source": [
    "yer.index"
   ]
  },
  {
   "cell_type": "code",
   "execution_count": 67,
   "id": "f49a903c-63d8-467d-8ec2-bf0dedc370d8",
   "metadata": {},
   "outputs": [
    {
     "data": {
      "text/plain": [
       "array([182115, 170591, 163554, 144419])"
      ]
     },
     "execution_count": 67,
     "metadata": {},
     "output_type": "execute_result"
    }
   ],
   "source": [
    "yer.values"
   ]
  },
  {
   "cell_type": "code",
   "execution_count": 68,
   "id": "57d35593-39ee-4ff7-b029-6beda0ef1852",
   "metadata": {},
   "outputs": [
    {
     "data": {
      "image/png": "[encoded data removed]",
      "text/plain": [
       "<Figure size 640x480 with 1 Axes>"
      ]
     },
     "metadata": {},
     "output_type": "display_data"
    }
   ],
   "source": [
    "plt.pie(yer, \n",
    "        labels = yer.index,\n",
    "        startangle = 90,\n",
    "        autopct = '%1.1f%%'\n",
    "       )\n",
    "plt.show()"
   ]
  },
  {
   "cell_type": "markdown",
   "id": "e17de57b-a192-4e71-bef5-e0eb1c954334",
   "metadata": {},
   "source": [
    "<h3>Insights NO.26</h3>\n",
    "<h4>In every year that have past we didn't have much knowledge of the road accidents that happend we thought in the year 2019 have the least accidents that happend because thats the start of the pandemic but in the result above year 2019 has the most road accidents with 182115 record with 27.6% of the total road accident record </h4>"
   ]
  },
  {
   "cell_type": "code",
   "execution_count": null,
   "id": "5c0deaf3-8f54-42ff-baaf-8f1325e5dd0b",
   "metadata": {},
   "outputs": [],
   "source": []
  }
 ],
 "metadata": {
  "kernelspec": {
   "display_name": "Python 3 (ipykernel)",
   "language": "python",
   "name": "python3"
  },
  "language_info": {
   "codemirror_mode": {
    "name": "ipython",
    "version": 3
   },
   "file_extension": ".py",
   "mimetype": "text/x-python",
   "name": "python",
   "nbconvert_exporter": "python",
   "pygments_lexer": "ipython3",
   "version": "3.13.7"
  }
 },
 "nbformat": 4,
 "nbformat_minor": 5
}
